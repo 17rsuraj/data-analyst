{
 "cells": [
  {
   "cell_type": "markdown",
   "metadata": {},
   "source": [
    "# Project 1: Investigate a Dataset\n",
    "submitted by: Suraj Gurav"
   ]
  },
  {
   "cell_type": "markdown",
   "metadata": {},
   "source": [
    "#### Dataset: TMDb Movies Dataset\n",
    "Date: 11.05.2020\n",
    "\n",
    "This Notebook is submitted as part of _Udacity Data Analyst Nanodegree_ program"
   ]
  },
  {
   "cell_type": "markdown",
   "metadata": {},
   "source": [
    "### Overview\n",
    "\n",
    "This dataset contains record of 10866 movies and 21 features for each movie. The more details about the dataset are explained in the subsequent sections.\n",
    "\n",
    "#### Assumptions\n",
    "This investigation is based on the following assumptions:\n",
    "1. As the columns _budget_adj_ and _revenue_adj_ are given in terms of US Dollars, the columns _budget_ and _revenue_ in US Dollars. \n",
    "2. The _runtime_ for movies is considered in Minutes.\n",
    "3. More the the value in _popularity_ column, more popular is the movie.\n",
    "4. Whereever _budget_ and _revenue_ values are _0_, it is assumed that these values are not recorded in the dataset.\n",
    "\n",
    "__Outline__ : To investigate the dataset and find the answers to different questions I followed the below steps\n",
    "\n",
    "1. [Questions can be answered](#1.-Questions-can-be-answered)\n",
    "2. [User Defined Functions](#2.-User-Defined-Functions)\n",
    "3. [Import required libraries](#3.-Import-Required-Libraries)\n",
    "4. [Data cleaning](#4.-Data-Cleaning)\n",
    "5. [Data wrangling](#5.-Data-Wrangling)\n",
    "6. [Exploratory Data Analysis](#6.-Exploratory-Data-Analysis-(EDA))\n",
    "    * [Research Question 1](#Research-Question-1:-Maximum-and-Minumum-Values) : Maximum and minimum values\n",
    "    * [Research Question 2](#Research-Question-2:-Average-Values) : Average Values\n",
    "    * [Research Question 3](#Research-Question-3:-Is-there-any-relationship-between-budget,-revenue,-profit,-runtime-and-votes-?) : Budget-revenue-profit-runtime-votes relationship\n",
    "    * [Research Question 4](#Research-Question-4:-Common-Appearance) : Common appearance\n",
    "    * [Research Question 5](#Research-Question-5:-Similarities-of-Profitable-Movies) : Similarities of movies with \\\\$300 million or more profit\n",
    "7. [Conclusion](#7.-Conclusion)"
   ]
  },
  {
   "cell_type": "markdown",
   "metadata": {},
   "source": [
    "---"
   ]
  },
  {
   "cell_type": "markdown",
   "metadata": {},
   "source": [
    "### 1. Questions can be answered\n",
    "\n",
    "- Very first questions that come to my mind were objective type - having only yes or no answers such as is there any relationship between budget and revenue generated, run time and budget. These questions can be simply answered by directly looking into the graphs for these features, for which we can use seaborn library.\n",
    "- Secondly, some numerical data can be collected through answering the questions such as what is the name of the movie with maximum, minimum budget, revenue, popularity, vote count and run time. For these pandas library can be used\n",
    "- Also, from a complete dataset, average values for budget, revenue, run time can be found out\n",
    "- some movies can be collected based on certain criteria, and different exploratory analysis can be performed on it."
   ]
  },
  {
   "cell_type": "markdown",
   "metadata": {},
   "source": [
    "### 2. User Defined Functions"
   ]
  },
  {
   "cell_type": "markdown",
   "metadata": {},
   "source": [
    "To avoid writing the similar code multiple times, 3 user defined functions were defined and used in this notebook.\n",
    "These functions are:\n",
    "\n",
    "1. [maxmin_movies()](#Research-Question-1:-Maximum-and-Minumum-Values)\n",
    "\n",
    "2. [avg_movies()](#Research-Question-2:-Average-Values)\n",
    "\n",
    "3. [splitandcollect()](#Research-Question-4:-Common-Appearance)\n",
    "        "
   ]
  },
  {
   "cell_type": "markdown",
   "metadata": {},
   "source": [
    "---"
   ]
  },
  {
   "cell_type": "markdown",
   "metadata": {},
   "source": [
    "### 3. Import Required Libraries"
   ]
  },
  {
   "cell_type": "code",
   "execution_count": 1,
   "metadata": {},
   "outputs": [
    {
     "name": "stdout",
     "output_type": "stream",
     "text": [
      " All Packages Imported !!!\n"
     ]
    }
   ],
   "source": [
    "import pandas as pd\n",
    "import matplotlib.pyplot as plt\n",
    "import numpy as np\n",
    "import seaborn as sns\n",
    "%matplotlib inline\n",
    "print(' All Packages Imported !!!')"
   ]
  },
  {
   "cell_type": "code",
   "execution_count": 2,
   "metadata": {},
   "outputs": [],
   "source": [
    "# read dataset\n",
    "df_tmdb=pd.read_csv('tmdb-movies.csv')"
   ]
  },
  {
   "cell_type": "code",
   "execution_count": 3,
   "metadata": {},
   "outputs": [
    {
     "data": {
      "text/html": [
       "<div>\n",
       "<style scoped>\n",
       "    .dataframe tbody tr th:only-of-type {\n",
       "        vertical-align: middle;\n",
       "    }\n",
       "\n",
       "    .dataframe tbody tr th {\n",
       "        vertical-align: top;\n",
       "    }\n",
       "\n",
       "    .dataframe thead th {\n",
       "        text-align: right;\n",
       "    }\n",
       "</style>\n",
       "<table border=\"1\" class=\"dataframe\">\n",
       "  <thead>\n",
       "    <tr style=\"text-align: right;\">\n",
       "      <th></th>\n",
       "      <th>id</th>\n",
       "      <th>imdb_id</th>\n",
       "      <th>popularity</th>\n",
       "      <th>budget</th>\n",
       "      <th>revenue</th>\n",
       "      <th>original_title</th>\n",
       "      <th>cast</th>\n",
       "      <th>homepage</th>\n",
       "      <th>director</th>\n",
       "      <th>tagline</th>\n",
       "      <th>...</th>\n",
       "      <th>overview</th>\n",
       "      <th>runtime</th>\n",
       "      <th>genres</th>\n",
       "      <th>production_companies</th>\n",
       "      <th>release_date</th>\n",
       "      <th>vote_count</th>\n",
       "      <th>vote_average</th>\n",
       "      <th>release_year</th>\n",
       "      <th>budget_adj</th>\n",
       "      <th>revenue_adj</th>\n",
       "    </tr>\n",
       "  </thead>\n",
       "  <tbody>\n",
       "    <tr>\n",
       "      <th>0</th>\n",
       "      <td>135397</td>\n",
       "      <td>tt0369610</td>\n",
       "      <td>32.985763</td>\n",
       "      <td>150000000</td>\n",
       "      <td>1513528810</td>\n",
       "      <td>Jurassic World</td>\n",
       "      <td>Chris Pratt|Bryce Dallas Howard|Irrfan Khan|Vi...</td>\n",
       "      <td>http://www.jurassicworld.com/</td>\n",
       "      <td>Colin Trevorrow</td>\n",
       "      <td>The park is open.</td>\n",
       "      <td>...</td>\n",
       "      <td>Twenty-two years after the events of Jurassic ...</td>\n",
       "      <td>124</td>\n",
       "      <td>Action|Adventure|Science Fiction|Thriller</td>\n",
       "      <td>Universal Studios|Amblin Entertainment|Legenda...</td>\n",
       "      <td>6/9/15</td>\n",
       "      <td>5562</td>\n",
       "      <td>6.5</td>\n",
       "      <td>2015</td>\n",
       "      <td>1.379999e+08</td>\n",
       "      <td>1.392446e+09</td>\n",
       "    </tr>\n",
       "    <tr>\n",
       "      <th>1</th>\n",
       "      <td>76341</td>\n",
       "      <td>tt1392190</td>\n",
       "      <td>28.419936</td>\n",
       "      <td>150000000</td>\n",
       "      <td>378436354</td>\n",
       "      <td>Mad Max: Fury Road</td>\n",
       "      <td>Tom Hardy|Charlize Theron|Hugh Keays-Byrne|Nic...</td>\n",
       "      <td>http://www.madmaxmovie.com/</td>\n",
       "      <td>George Miller</td>\n",
       "      <td>What a Lovely Day.</td>\n",
       "      <td>...</td>\n",
       "      <td>An apocalyptic story set in the furthest reach...</td>\n",
       "      <td>120</td>\n",
       "      <td>Action|Adventure|Science Fiction|Thriller</td>\n",
       "      <td>Village Roadshow Pictures|Kennedy Miller Produ...</td>\n",
       "      <td>5/13/15</td>\n",
       "      <td>6185</td>\n",
       "      <td>7.1</td>\n",
       "      <td>2015</td>\n",
       "      <td>1.379999e+08</td>\n",
       "      <td>3.481613e+08</td>\n",
       "    </tr>\n",
       "    <tr>\n",
       "      <th>2</th>\n",
       "      <td>262500</td>\n",
       "      <td>tt2908446</td>\n",
       "      <td>13.112507</td>\n",
       "      <td>110000000</td>\n",
       "      <td>295238201</td>\n",
       "      <td>Insurgent</td>\n",
       "      <td>Shailene Woodley|Theo James|Kate Winslet|Ansel...</td>\n",
       "      <td>http://www.thedivergentseries.movie/#insurgent</td>\n",
       "      <td>Robert Schwentke</td>\n",
       "      <td>One Choice Can Destroy You</td>\n",
       "      <td>...</td>\n",
       "      <td>Beatrice Prior must confront her inner demons ...</td>\n",
       "      <td>119</td>\n",
       "      <td>Adventure|Science Fiction|Thriller</td>\n",
       "      <td>Summit Entertainment|Mandeville Films|Red Wago...</td>\n",
       "      <td>3/18/15</td>\n",
       "      <td>2480</td>\n",
       "      <td>6.3</td>\n",
       "      <td>2015</td>\n",
       "      <td>1.012000e+08</td>\n",
       "      <td>2.716190e+08</td>\n",
       "    </tr>\n",
       "    <tr>\n",
       "      <th>3</th>\n",
       "      <td>140607</td>\n",
       "      <td>tt2488496</td>\n",
       "      <td>11.173104</td>\n",
       "      <td>200000000</td>\n",
       "      <td>2068178225</td>\n",
       "      <td>Star Wars: The Force Awakens</td>\n",
       "      <td>Harrison Ford|Mark Hamill|Carrie Fisher|Adam D...</td>\n",
       "      <td>http://www.starwars.com/films/star-wars-episod...</td>\n",
       "      <td>J.J. Abrams</td>\n",
       "      <td>Every generation has a story.</td>\n",
       "      <td>...</td>\n",
       "      <td>Thirty years after defeating the Galactic Empi...</td>\n",
       "      <td>136</td>\n",
       "      <td>Action|Adventure|Science Fiction|Fantasy</td>\n",
       "      <td>Lucasfilm|Truenorth Productions|Bad Robot</td>\n",
       "      <td>12/15/15</td>\n",
       "      <td>5292</td>\n",
       "      <td>7.5</td>\n",
       "      <td>2015</td>\n",
       "      <td>1.839999e+08</td>\n",
       "      <td>1.902723e+09</td>\n",
       "    </tr>\n",
       "    <tr>\n",
       "      <th>4</th>\n",
       "      <td>168259</td>\n",
       "      <td>tt2820852</td>\n",
       "      <td>9.335014</td>\n",
       "      <td>190000000</td>\n",
       "      <td>1506249360</td>\n",
       "      <td>Furious 7</td>\n",
       "      <td>Vin Diesel|Paul Walker|Jason Statham|Michelle ...</td>\n",
       "      <td>http://www.furious7.com/</td>\n",
       "      <td>James Wan</td>\n",
       "      <td>Vengeance Hits Home</td>\n",
       "      <td>...</td>\n",
       "      <td>Deckard Shaw seeks revenge against Dominic Tor...</td>\n",
       "      <td>137</td>\n",
       "      <td>Action|Crime|Thriller</td>\n",
       "      <td>Universal Pictures|Original Film|Media Rights ...</td>\n",
       "      <td>4/1/15</td>\n",
       "      <td>2947</td>\n",
       "      <td>7.3</td>\n",
       "      <td>2015</td>\n",
       "      <td>1.747999e+08</td>\n",
       "      <td>1.385749e+09</td>\n",
       "    </tr>\n",
       "  </tbody>\n",
       "</table>\n",
       "<p>5 rows × 21 columns</p>\n",
       "</div>"
      ],
      "text/plain": [
       "       id    imdb_id  popularity     budget     revenue  \\\n",
       "0  135397  tt0369610   32.985763  150000000  1513528810   \n",
       "1   76341  tt1392190   28.419936  150000000   378436354   \n",
       "2  262500  tt2908446   13.112507  110000000   295238201   \n",
       "3  140607  tt2488496   11.173104  200000000  2068178225   \n",
       "4  168259  tt2820852    9.335014  190000000  1506249360   \n",
       "\n",
       "                 original_title  \\\n",
       "0                Jurassic World   \n",
       "1            Mad Max: Fury Road   \n",
       "2                     Insurgent   \n",
       "3  Star Wars: The Force Awakens   \n",
       "4                     Furious 7   \n",
       "\n",
       "                                                cast  \\\n",
       "0  Chris Pratt|Bryce Dallas Howard|Irrfan Khan|Vi...   \n",
       "1  Tom Hardy|Charlize Theron|Hugh Keays-Byrne|Nic...   \n",
       "2  Shailene Woodley|Theo James|Kate Winslet|Ansel...   \n",
       "3  Harrison Ford|Mark Hamill|Carrie Fisher|Adam D...   \n",
       "4  Vin Diesel|Paul Walker|Jason Statham|Michelle ...   \n",
       "\n",
       "                                            homepage          director  \\\n",
       "0                      http://www.jurassicworld.com/   Colin Trevorrow   \n",
       "1                        http://www.madmaxmovie.com/     George Miller   \n",
       "2     http://www.thedivergentseries.movie/#insurgent  Robert Schwentke   \n",
       "3  http://www.starwars.com/films/star-wars-episod...       J.J. Abrams   \n",
       "4                           http://www.furious7.com/         James Wan   \n",
       "\n",
       "                         tagline  ...  \\\n",
       "0              The park is open.  ...   \n",
       "1             What a Lovely Day.  ...   \n",
       "2     One Choice Can Destroy You  ...   \n",
       "3  Every generation has a story.  ...   \n",
       "4            Vengeance Hits Home  ...   \n",
       "\n",
       "                                            overview runtime  \\\n",
       "0  Twenty-two years after the events of Jurassic ...     124   \n",
       "1  An apocalyptic story set in the furthest reach...     120   \n",
       "2  Beatrice Prior must confront her inner demons ...     119   \n",
       "3  Thirty years after defeating the Galactic Empi...     136   \n",
       "4  Deckard Shaw seeks revenge against Dominic Tor...     137   \n",
       "\n",
       "                                      genres  \\\n",
       "0  Action|Adventure|Science Fiction|Thriller   \n",
       "1  Action|Adventure|Science Fiction|Thriller   \n",
       "2         Adventure|Science Fiction|Thriller   \n",
       "3   Action|Adventure|Science Fiction|Fantasy   \n",
       "4                      Action|Crime|Thriller   \n",
       "\n",
       "                                production_companies release_date vote_count  \\\n",
       "0  Universal Studios|Amblin Entertainment|Legenda...       6/9/15       5562   \n",
       "1  Village Roadshow Pictures|Kennedy Miller Produ...      5/13/15       6185   \n",
       "2  Summit Entertainment|Mandeville Films|Red Wago...      3/18/15       2480   \n",
       "3          Lucasfilm|Truenorth Productions|Bad Robot     12/15/15       5292   \n",
       "4  Universal Pictures|Original Film|Media Rights ...       4/1/15       2947   \n",
       "\n",
       "   vote_average  release_year    budget_adj   revenue_adj  \n",
       "0           6.5          2015  1.379999e+08  1.392446e+09  \n",
       "1           7.1          2015  1.379999e+08  3.481613e+08  \n",
       "2           6.3          2015  1.012000e+08  2.716190e+08  \n",
       "3           7.5          2015  1.839999e+08  1.902723e+09  \n",
       "4           7.3          2015  1.747999e+08  1.385749e+09  \n",
       "\n",
       "[5 rows x 21 columns]"
      ]
     },
     "execution_count": 3,
     "metadata": {},
     "output_type": "execute_result"
    }
   ],
   "source": [
    "df_tmdb.head()"
   ]
  },
  {
   "cell_type": "code",
   "execution_count": 4,
   "metadata": {},
   "outputs": [
    {
     "name": "stdout",
     "output_type": "stream",
     "text": [
      "This dataframe has 10866 rows and 21 columns\n"
     ]
    }
   ],
   "source": [
    "row,col=df_tmdb.shape\n",
    "print('This dataframe has {} rows and {} columns'.format(row,col))"
   ]
  },
  {
   "cell_type": "code",
   "execution_count": 5,
   "metadata": {},
   "outputs": [
    {
     "name": "stdout",
     "output_type": "stream",
     "text": [
      "<class 'pandas.core.frame.DataFrame'>\n",
      "RangeIndex: 10866 entries, 0 to 10865\n",
      "Data columns (total 21 columns):\n",
      " #   Column                Non-Null Count  Dtype  \n",
      "---  ------                --------------  -----  \n",
      " 0   id                    10866 non-null  int64  \n",
      " 1   imdb_id               10856 non-null  object \n",
      " 2   popularity            10866 non-null  float64\n",
      " 3   budget                10866 non-null  int64  \n",
      " 4   revenue               10866 non-null  int64  \n",
      " 5   original_title        10866 non-null  object \n",
      " 6   cast                  10790 non-null  object \n",
      " 7   homepage              2936 non-null   object \n",
      " 8   director              10822 non-null  object \n",
      " 9   tagline               8042 non-null   object \n",
      " 10  keywords              9373 non-null   object \n",
      " 11  overview              10862 non-null  object \n",
      " 12  runtime               10866 non-null  int64  \n",
      " 13  genres                10843 non-null  object \n",
      " 14  production_companies  9836 non-null   object \n",
      " 15  release_date          10866 non-null  object \n",
      " 16  vote_count            10866 non-null  int64  \n",
      " 17  vote_average          10866 non-null  float64\n",
      " 18  release_year          10866 non-null  int64  \n",
      " 19  budget_adj            10866 non-null  float64\n",
      " 20  revenue_adj           10866 non-null  float64\n",
      "dtypes: float64(4), int64(6), object(11)\n",
      "memory usage: 1.7+ MB\n"
     ]
    }
   ],
   "source": [
    "df_tmdb.info()"
   ]
  },
  {
   "cell_type": "markdown",
   "metadata": {},
   "source": [
    "This shows that, the columns _cast, homepage, director, tagline, keywords, overview, genres and production_companies_ have few NaN."
   ]
  },
  {
   "cell_type": "markdown",
   "metadata": {},
   "source": [
    "### 4. Data Cleaning"
   ]
  },
  {
   "cell_type": "markdown",
   "metadata": {},
   "source": [
    "To answer the type of questions mentioned above, this dataset need to be cleaned and only the required columns will be maintained in the final dataframe.\n",
    "\n",
    "There can be few movies, for which budget and revenue is _0_. Let us assume that the budget data for these movies are not recorded and hence not present in the dataset. Hence, these rows (movies data will be removed from the dataframe)\n"
   ]
  },
  {
   "cell_type": "markdown",
   "metadata": {},
   "source": [
    "Let us start with checking if the dataframe has duplicate rows or not. If it has duplicate rows, then those will be removed and only first appearance of row will be kept. "
   ]
  },
  {
   "cell_type": "code",
   "execution_count": 6,
   "metadata": {},
   "outputs": [
    {
     "name": "stdout",
     "output_type": "stream",
     "text": [
      "There are 10864 total number of movies and 21 features for each movie.\n"
     ]
    }
   ],
   "source": [
    "#drop duplicate rows\n",
    "df_tmdb.drop_duplicates(keep = 'first', inplace = True)\n",
    "\n",
    "rows, col = df_tmdb.shape\n",
    "print('There are {} total number of movies and {} features for each movie.'.format(rows-1, col))"
   ]
  },
  {
   "cell_type": "code",
   "execution_count": 7,
   "metadata": {},
   "outputs": [
    {
     "name": "stdout",
     "output_type": "stream",
     "text": [
      "Now there are total 3854 movies.\n"
     ]
    }
   ],
   "source": [
    "Na_collection=['budget','revenue']\n",
    "df_tmdb[Na_collection]=df_tmdb[Na_collection].replace(0,np.NaN) # converting the value 0 in budget and revenue column to NaN\n",
    "df_tmdb.dropna(subset=Na_collection,inplace=True) # dropping movies which belong to these NaN from dataframe\n",
    "\n",
    "rows, col = df_tmdb.shape\n",
    "print('Now there are total {} movies.'.format(rows))"
   ]
  },
  {
   "cell_type": "markdown",
   "metadata": {},
   "source": [
    "### 5. Data Wrangling\n",
    "\n",
    "No measure is mentioned about the popularity of a movie, hence this column doesn't provide any robust information about a movie. It can be removed from the dataframe. Similarly there are other columns such as _id, imdb_id, homepage, tagline, keywords, production_companies, budget_adj, revenue_adj, overview_ which contribute very less or nothing to answer my questions and can be removed.\n",
    "\n",
    "Hence, a new dataframe will be formed using the selected columns from the original dataframe."
   ]
  },
  {
   "cell_type": "code",
   "execution_count": 8,
   "metadata": {},
   "outputs": [
    {
     "data": {
      "text/html": [
       "<div>\n",
       "<style scoped>\n",
       "    .dataframe tbody tr th:only-of-type {\n",
       "        vertical-align: middle;\n",
       "    }\n",
       "\n",
       "    .dataframe tbody tr th {\n",
       "        vertical-align: top;\n",
       "    }\n",
       "\n",
       "    .dataframe thead th {\n",
       "        text-align: right;\n",
       "    }\n",
       "</style>\n",
       "<table border=\"1\" class=\"dataframe\">\n",
       "  <thead>\n",
       "    <tr style=\"text-align: right;\">\n",
       "      <th></th>\n",
       "      <th>original_title</th>\n",
       "      <th>budget</th>\n",
       "      <th>revenue</th>\n",
       "      <th>runtime</th>\n",
       "      <th>release_year</th>\n",
       "      <th>vote_count</th>\n",
       "      <th>director</th>\n",
       "      <th>genres</th>\n",
       "    </tr>\n",
       "  </thead>\n",
       "  <tbody>\n",
       "    <tr>\n",
       "      <th>0</th>\n",
       "      <td>Jurassic World</td>\n",
       "      <td>150000000.0</td>\n",
       "      <td>1.513529e+09</td>\n",
       "      <td>124</td>\n",
       "      <td>2015</td>\n",
       "      <td>5562</td>\n",
       "      <td>Colin Trevorrow</td>\n",
       "      <td>Action|Adventure|Science Fiction|Thriller</td>\n",
       "    </tr>\n",
       "    <tr>\n",
       "      <th>1</th>\n",
       "      <td>Mad Max: Fury Road</td>\n",
       "      <td>150000000.0</td>\n",
       "      <td>3.784364e+08</td>\n",
       "      <td>120</td>\n",
       "      <td>2015</td>\n",
       "      <td>6185</td>\n",
       "      <td>George Miller</td>\n",
       "      <td>Action|Adventure|Science Fiction|Thriller</td>\n",
       "    </tr>\n",
       "    <tr>\n",
       "      <th>2</th>\n",
       "      <td>Insurgent</td>\n",
       "      <td>110000000.0</td>\n",
       "      <td>2.952382e+08</td>\n",
       "      <td>119</td>\n",
       "      <td>2015</td>\n",
       "      <td>2480</td>\n",
       "      <td>Robert Schwentke</td>\n",
       "      <td>Adventure|Science Fiction|Thriller</td>\n",
       "    </tr>\n",
       "    <tr>\n",
       "      <th>3</th>\n",
       "      <td>Star Wars: The Force Awakens</td>\n",
       "      <td>200000000.0</td>\n",
       "      <td>2.068178e+09</td>\n",
       "      <td>136</td>\n",
       "      <td>2015</td>\n",
       "      <td>5292</td>\n",
       "      <td>J.J. Abrams</td>\n",
       "      <td>Action|Adventure|Science Fiction|Fantasy</td>\n",
       "    </tr>\n",
       "    <tr>\n",
       "      <th>4</th>\n",
       "      <td>Furious 7</td>\n",
       "      <td>190000000.0</td>\n",
       "      <td>1.506249e+09</td>\n",
       "      <td>137</td>\n",
       "      <td>2015</td>\n",
       "      <td>2947</td>\n",
       "      <td>James Wan</td>\n",
       "      <td>Action|Crime|Thriller</td>\n",
       "    </tr>\n",
       "  </tbody>\n",
       "</table>\n",
       "</div>"
      ],
      "text/plain": [
       "                 original_title       budget       revenue  runtime  \\\n",
       "0                Jurassic World  150000000.0  1.513529e+09      124   \n",
       "1            Mad Max: Fury Road  150000000.0  3.784364e+08      120   \n",
       "2                     Insurgent  110000000.0  2.952382e+08      119   \n",
       "3  Star Wars: The Force Awakens  200000000.0  2.068178e+09      136   \n",
       "4                     Furious 7  190000000.0  1.506249e+09      137   \n",
       "\n",
       "   release_year  vote_count          director  \\\n",
       "0          2015        5562   Colin Trevorrow   \n",
       "1          2015        6185     George Miller   \n",
       "2          2015        2480  Robert Schwentke   \n",
       "3          2015        5292       J.J. Abrams   \n",
       "4          2015        2947         James Wan   \n",
       "\n",
       "                                      genres  \n",
       "0  Action|Adventure|Science Fiction|Thriller  \n",
       "1  Action|Adventure|Science Fiction|Thriller  \n",
       "2         Adventure|Science Fiction|Thriller  \n",
       "3   Action|Adventure|Science Fiction|Fantasy  \n",
       "4                      Action|Crime|Thriller  "
      ]
     },
     "execution_count": 8,
     "metadata": {},
     "output_type": "execute_result"
    }
   ],
   "source": [
    "df_movies=df_tmdb[[\"original_title\",\"budget\",\"revenue\",\"runtime\",\"release_year\",\"vote_count\",\"director\",\"genres\"]]\n",
    "df_movies.head()"
   ]
  },
  {
   "cell_type": "code",
   "execution_count": 9,
   "metadata": {},
   "outputs": [
    {
     "data": {
      "text/html": [
       "<div>\n",
       "<style scoped>\n",
       "    .dataframe tbody tr th:only-of-type {\n",
       "        vertical-align: middle;\n",
       "    }\n",
       "\n",
       "    .dataframe tbody tr th {\n",
       "        vertical-align: top;\n",
       "    }\n",
       "\n",
       "    .dataframe thead th {\n",
       "        text-align: right;\n",
       "    }\n",
       "</style>\n",
       "<table border=\"1\" class=\"dataframe\">\n",
       "  <thead>\n",
       "    <tr style=\"text-align: right;\">\n",
       "      <th></th>\n",
       "      <th>original_title</th>\n",
       "      <th>budget</th>\n",
       "      <th>revenue</th>\n",
       "      <th>runtime</th>\n",
       "      <th>release_year</th>\n",
       "      <th>vote_count</th>\n",
       "      <th>director</th>\n",
       "      <th>genres</th>\n",
       "    </tr>\n",
       "  </thead>\n",
       "  <tbody>\n",
       "    <tr>\n",
       "      <th>10822</th>\n",
       "      <td>Who's Afraid of Virginia Woolf?</td>\n",
       "      <td>7500000.0</td>\n",
       "      <td>33736689.0</td>\n",
       "      <td>131</td>\n",
       "      <td>1966</td>\n",
       "      <td>74</td>\n",
       "      <td>Mike Nichols</td>\n",
       "      <td>Drama</td>\n",
       "    </tr>\n",
       "    <tr>\n",
       "      <th>10828</th>\n",
       "      <td>Torn Curtain</td>\n",
       "      <td>3000000.0</td>\n",
       "      <td>13000000.0</td>\n",
       "      <td>128</td>\n",
       "      <td>1966</td>\n",
       "      <td>46</td>\n",
       "      <td>Alfred Hitchcock</td>\n",
       "      <td>Mystery|Thriller</td>\n",
       "    </tr>\n",
       "    <tr>\n",
       "      <th>10829</th>\n",
       "      <td>El Dorado</td>\n",
       "      <td>4653000.0</td>\n",
       "      <td>6000000.0</td>\n",
       "      <td>120</td>\n",
       "      <td>1966</td>\n",
       "      <td>36</td>\n",
       "      <td>Howard Hawks</td>\n",
       "      <td>Action|Western</td>\n",
       "    </tr>\n",
       "    <tr>\n",
       "      <th>10835</th>\n",
       "      <td>The Sand Pebbles</td>\n",
       "      <td>12000000.0</td>\n",
       "      <td>20000000.0</td>\n",
       "      <td>182</td>\n",
       "      <td>1966</td>\n",
       "      <td>28</td>\n",
       "      <td>Robert Wise</td>\n",
       "      <td>Action|Adventure|Drama|War|Romance</td>\n",
       "    </tr>\n",
       "    <tr>\n",
       "      <th>10848</th>\n",
       "      <td>Fantastic Voyage</td>\n",
       "      <td>5115000.0</td>\n",
       "      <td>12000000.0</td>\n",
       "      <td>100</td>\n",
       "      <td>1966</td>\n",
       "      <td>42</td>\n",
       "      <td>Richard Fleischer</td>\n",
       "      <td>Adventure|Science Fiction</td>\n",
       "    </tr>\n",
       "  </tbody>\n",
       "</table>\n",
       "</div>"
      ],
      "text/plain": [
       "                        original_title      budget     revenue  runtime  \\\n",
       "10822  Who's Afraid of Virginia Woolf?   7500000.0  33736689.0      131   \n",
       "10828                     Torn Curtain   3000000.0  13000000.0      128   \n",
       "10829                        El Dorado   4653000.0   6000000.0      120   \n",
       "10835                 The Sand Pebbles  12000000.0  20000000.0      182   \n",
       "10848                 Fantastic Voyage   5115000.0  12000000.0      100   \n",
       "\n",
       "       release_year  vote_count           director  \\\n",
       "10822          1966          74       Mike Nichols   \n",
       "10828          1966          46   Alfred Hitchcock   \n",
       "10829          1966          36       Howard Hawks   \n",
       "10835          1966          28        Robert Wise   \n",
       "10848          1966          42  Richard Fleischer   \n",
       "\n",
       "                                   genres  \n",
       "10822                               Drama  \n",
       "10828                    Mystery|Thriller  \n",
       "10829                      Action|Western  \n",
       "10835  Action|Adventure|Drama|War|Romance  \n",
       "10848           Adventure|Science Fiction  "
      ]
     },
     "execution_count": 9,
     "metadata": {},
     "output_type": "execute_result"
    }
   ],
   "source": [
    "df_movies.tail()"
   ]
  },
  {
   "cell_type": "code",
   "execution_count": 10,
   "metadata": {},
   "outputs": [
    {
     "name": "stdout",
     "output_type": "stream",
     "text": [
      "<class 'pandas.core.frame.DataFrame'>\n",
      "Int64Index: 3854 entries, 0 to 10848\n",
      "Data columns (total 8 columns):\n",
      " #   Column          Non-Null Count  Dtype  \n",
      "---  ------          --------------  -----  \n",
      " 0   original_title  3854 non-null   object \n",
      " 1   budget          3854 non-null   float64\n",
      " 2   revenue         3854 non-null   float64\n",
      " 3   runtime         3854 non-null   int64  \n",
      " 4   release_year    3854 non-null   int64  \n",
      " 5   vote_count      3854 non-null   int64  \n",
      " 6   director        3853 non-null   object \n",
      " 7   genres          3854 non-null   object \n",
      "dtypes: float64(2), int64(3), object(3)\n",
      "memory usage: 271.0+ KB\n"
     ]
    }
   ],
   "source": [
    "df_movies.info()"
   ]
  },
  {
   "cell_type": "markdown",
   "metadata": {},
   "source": [
    "In [Data Cleaning](#2.-Data-Cleaning) step, we have found that there are <code>3854</code> total number of movies in cleaned dataset. In the above cell, it can be seen that, the Non-Null Count is 3854 for all the columns except for _director_ column. So, removing the one movie data for which director name is missing."
   ]
  },
  {
   "cell_type": "code",
   "execution_count": 11,
   "metadata": {},
   "outputs": [
    {
     "name": "stdout",
     "output_type": "stream",
     "text": [
      "<class 'pandas.core.frame.DataFrame'>\n",
      "Int64Index: 3853 entries, 0 to 10848\n",
      "Data columns (total 8 columns):\n",
      " #   Column          Non-Null Count  Dtype  \n",
      "---  ------          --------------  -----  \n",
      " 0   original_title  3853 non-null   object \n",
      " 1   budget          3853 non-null   float64\n",
      " 2   revenue         3853 non-null   float64\n",
      " 3   runtime         3853 non-null   int64  \n",
      " 4   release_year    3853 non-null   int64  \n",
      " 5   vote_count      3853 non-null   int64  \n",
      " 6   director        3853 non-null   object \n",
      " 7   genres          3853 non-null   object \n",
      "dtypes: float64(2), int64(3), object(3)\n",
      "memory usage: 270.9+ KB\n"
     ]
    },
    {
     "name": "stderr",
     "output_type": "stream",
     "text": [
      "C:\\Users\\Suraj\\Anaconda3\\lib\\site-packages\\pandas\\core\\frame.py:3997: SettingWithCopyWarning: \n",
      "A value is trying to be set on a copy of a slice from a DataFrame\n",
      "\n",
      "See the caveats in the documentation: https://pandas.pydata.org/pandas-docs/stable/user_guide/indexing.html#returning-a-view-versus-a-copy\n",
      "  errors=errors,\n"
     ]
    }
   ],
   "source": [
    "k=df_movies[df_movies['director'].isna()==True].index\n",
    "df_movies.drop(k,inplace=True)\n",
    "df_movies.info()"
   ]
  },
  {
   "cell_type": "markdown",
   "metadata": {},
   "source": [
    "Now, we have total data of <code>3853</code> movies with no missing values"
   ]
  },
  {
   "cell_type": "markdown",
   "metadata": {},
   "source": [
    "The data type for columns _budget_ and _revenue_ is <code>float64</code>, which can be converted into <code>int64</code>"
   ]
  },
  {
   "cell_type": "code",
   "execution_count": 12,
   "metadata": {},
   "outputs": [
    {
     "name": "stderr",
     "output_type": "stream",
     "text": [
      "C:\\Users\\Suraj\\Anaconda3\\lib\\site-packages\\ipykernel_launcher.py:1: SettingWithCopyWarning: \n",
      "A value is trying to be set on a copy of a slice from a DataFrame.\n",
      "Try using .loc[row_indexer,col_indexer] = value instead\n",
      "\n",
      "See the caveats in the documentation: https://pandas.pydata.org/pandas-docs/stable/user_guide/indexing.html#returning-a-view-versus-a-copy\n",
      "  \"\"\"Entry point for launching an IPython kernel.\n",
      "C:\\Users\\Suraj\\Anaconda3\\lib\\site-packages\\ipykernel_launcher.py:2: SettingWithCopyWarning: \n",
      "A value is trying to be set on a copy of a slice from a DataFrame.\n",
      "Try using .loc[row_indexer,col_indexer] = value instead\n",
      "\n",
      "See the caveats in the documentation: https://pandas.pydata.org/pandas-docs/stable/user_guide/indexing.html#returning-a-view-versus-a-copy\n",
      "  \n"
     ]
    },
    {
     "data": {
      "text/plain": [
       "original_title    object\n",
       "budget             int64\n",
       "revenue            int64\n",
       "runtime            int64\n",
       "release_year       int64\n",
       "vote_count         int64\n",
       "director          object\n",
       "genres            object\n",
       "dtype: object"
      ]
     },
     "execution_count": 12,
     "metadata": {},
     "output_type": "execute_result"
    }
   ],
   "source": [
    "df_movies[\"budget\"]=df_movies[\"budget\"].astype('int64')\n",
    "df_movies[\"revenue\"]=df_movies[\"revenue\"].astype('int64')\n",
    "df_movies.dtypes"
   ]
  },
  {
   "cell_type": "markdown",
   "metadata": {},
   "source": [
    "Now all the columns are in desired data types.\n",
    "\n",
    "The columns budget and revenue has no unit. Let us assume __budget__ and __revenue__ are in __US Dollars__."
   ]
  },
  {
   "cell_type": "markdown",
   "metadata": {},
   "source": [
    "let us add one additional column __profit__ into the dataframe. The unit of profit is again __US Dollars__.\n",
    "The profit is calculated as <code>Profit</code> = <code>Revenue</code> - <code>Budget</code>"
   ]
  },
  {
   "cell_type": "code",
   "execution_count": 13,
   "metadata": {},
   "outputs": [
    {
     "name": "stdout",
     "output_type": "stream",
     "text": [
      "<class 'pandas.core.frame.DataFrame'>\n",
      "Int64Index: 3853 entries, 0 to 10848\n",
      "Data columns (total 9 columns):\n",
      " #   Column          Non-Null Count  Dtype \n",
      "---  ------          --------------  ----- \n",
      " 0   original_title  3853 non-null   object\n",
      " 1   budget          3853 non-null   int64 \n",
      " 2   revenue         3853 non-null   int64 \n",
      " 3   profit          3853 non-null   int64 \n",
      " 4   runtime         3853 non-null   int64 \n",
      " 5   release_year    3853 non-null   int64 \n",
      " 6   vote_count      3853 non-null   int64 \n",
      " 7   director        3853 non-null   object\n",
      " 8   genres          3853 non-null   object\n",
      "dtypes: int64(6), object(3)\n",
      "memory usage: 301.0+ KB\n"
     ]
    },
    {
     "name": "stderr",
     "output_type": "stream",
     "text": [
      "C:\\Users\\Suraj\\Anaconda3\\lib\\site-packages\\ipykernel_launcher.py:2: SettingWithCopyWarning: \n",
      "A value is trying to be set on a copy of a slice from a DataFrame.\n",
      "Try using .loc[row_indexer,col_indexer] = value instead\n",
      "\n",
      "See the caveats in the documentation: https://pandas.pydata.org/pandas-docs/stable/user_guide/indexing.html#returning-a-view-versus-a-copy\n",
      "  \n"
     ]
    }
   ],
   "source": [
    "df_movies.insert(3, 'profit', df_movies['revenue'] - df_movies['budget'])\n",
    "df_movies['profit']=df_movies['profit'].astype('int64') # making its data type as same as revenue and budget\n",
    "df_movies.info()"
   ]
  },
  {
   "cell_type": "code",
   "execution_count": 14,
   "metadata": {},
   "outputs": [
    {
     "data": {
      "text/html": [
       "<div>\n",
       "<style scoped>\n",
       "    .dataframe tbody tr th:only-of-type {\n",
       "        vertical-align: middle;\n",
       "    }\n",
       "\n",
       "    .dataframe tbody tr th {\n",
       "        vertical-align: top;\n",
       "    }\n",
       "\n",
       "    .dataframe thead th {\n",
       "        text-align: right;\n",
       "    }\n",
       "</style>\n",
       "<table border=\"1\" class=\"dataframe\">\n",
       "  <thead>\n",
       "    <tr style=\"text-align: right;\">\n",
       "      <th></th>\n",
       "      <th>original_title</th>\n",
       "      <th>budget</th>\n",
       "      <th>revenue</th>\n",
       "      <th>profit</th>\n",
       "      <th>runtime</th>\n",
       "      <th>release_year</th>\n",
       "      <th>vote_count</th>\n",
       "      <th>director</th>\n",
       "      <th>genres</th>\n",
       "    </tr>\n",
       "  </thead>\n",
       "  <tbody>\n",
       "    <tr>\n",
       "      <th>0</th>\n",
       "      <td>Jurassic World</td>\n",
       "      <td>150000000</td>\n",
       "      <td>1513528810</td>\n",
       "      <td>1363528810</td>\n",
       "      <td>124</td>\n",
       "      <td>2015</td>\n",
       "      <td>5562</td>\n",
       "      <td>Colin Trevorrow</td>\n",
       "      <td>Action|Adventure|Science Fiction|Thriller</td>\n",
       "    </tr>\n",
       "    <tr>\n",
       "      <th>1</th>\n",
       "      <td>Mad Max: Fury Road</td>\n",
       "      <td>150000000</td>\n",
       "      <td>378436354</td>\n",
       "      <td>228436354</td>\n",
       "      <td>120</td>\n",
       "      <td>2015</td>\n",
       "      <td>6185</td>\n",
       "      <td>George Miller</td>\n",
       "      <td>Action|Adventure|Science Fiction|Thriller</td>\n",
       "    </tr>\n",
       "    <tr>\n",
       "      <th>2</th>\n",
       "      <td>Insurgent</td>\n",
       "      <td>110000000</td>\n",
       "      <td>295238201</td>\n",
       "      <td>185238201</td>\n",
       "      <td>119</td>\n",
       "      <td>2015</td>\n",
       "      <td>2480</td>\n",
       "      <td>Robert Schwentke</td>\n",
       "      <td>Adventure|Science Fiction|Thriller</td>\n",
       "    </tr>\n",
       "    <tr>\n",
       "      <th>3</th>\n",
       "      <td>Star Wars: The Force Awakens</td>\n",
       "      <td>200000000</td>\n",
       "      <td>2068178225</td>\n",
       "      <td>1868178225</td>\n",
       "      <td>136</td>\n",
       "      <td>2015</td>\n",
       "      <td>5292</td>\n",
       "      <td>J.J. Abrams</td>\n",
       "      <td>Action|Adventure|Science Fiction|Fantasy</td>\n",
       "    </tr>\n",
       "    <tr>\n",
       "      <th>4</th>\n",
       "      <td>Furious 7</td>\n",
       "      <td>190000000</td>\n",
       "      <td>1506249360</td>\n",
       "      <td>1316249360</td>\n",
       "      <td>137</td>\n",
       "      <td>2015</td>\n",
       "      <td>2947</td>\n",
       "      <td>James Wan</td>\n",
       "      <td>Action|Crime|Thriller</td>\n",
       "    </tr>\n",
       "  </tbody>\n",
       "</table>\n",
       "</div>"
      ],
      "text/plain": [
       "                 original_title     budget     revenue      profit  runtime  \\\n",
       "0                Jurassic World  150000000  1513528810  1363528810      124   \n",
       "1            Mad Max: Fury Road  150000000   378436354   228436354      120   \n",
       "2                     Insurgent  110000000   295238201   185238201      119   \n",
       "3  Star Wars: The Force Awakens  200000000  2068178225  1868178225      136   \n",
       "4                     Furious 7  190000000  1506249360  1316249360      137   \n",
       "\n",
       "   release_year  vote_count          director  \\\n",
       "0          2015        5562   Colin Trevorrow   \n",
       "1          2015        6185     George Miller   \n",
       "2          2015        2480  Robert Schwentke   \n",
       "3          2015        5292       J.J. Abrams   \n",
       "4          2015        2947         James Wan   \n",
       "\n",
       "                                      genres  \n",
       "0  Action|Adventure|Science Fiction|Thriller  \n",
       "1  Action|Adventure|Science Fiction|Thriller  \n",
       "2         Adventure|Science Fiction|Thriller  \n",
       "3   Action|Adventure|Science Fiction|Fantasy  \n",
       "4                      Action|Crime|Thriller  "
      ]
     },
     "execution_count": 14,
     "metadata": {},
     "output_type": "execute_result"
    }
   ],
   "source": [
    "df_movies.head()"
   ]
  },
  {
   "cell_type": "markdown",
   "metadata": {},
   "source": [
    "With this the Data Wrangling / transformation step is complete. Now we can do analysis of this cleaned and transformed dataset to answer the questions."
   ]
  },
  {
   "cell_type": "markdown",
   "metadata": {},
   "source": [
    "------"
   ]
  },
  {
   "cell_type": "markdown",
   "metadata": {},
   "source": [
    "### 6. Exploratory Data Analysis (EDA)"
   ]
  },
  {
   "cell_type": "markdown",
   "metadata": {},
   "source": [
    "#### Research Question 1: Maximum and Minumum Values\n",
    "\n",
    "            1.1 What are the names of movies with maximum and minimum budget ?\n",
    "            1.2 What are the names of movies with maximum and minimum revenue ?\n",
    "            1.3 What are the names of movies with maximum and minimum profit ?\n",
    "            1.4 What are the names of movies with maximum and minimum votes ?\n",
    "            1.5 What are the names of movies with maximum and minimum runtime ?"
   ]
  },
  {
   "cell_type": "markdown",
   "metadata": {},
   "source": [
    "since, all the questions of maximum and minimum values will be answered, let us define a function to get these answers."
   ]
  },
  {
   "cell_type": "code",
   "execution_count": 15,
   "metadata": {},
   "outputs": [],
   "source": [
    "def maxmin_movies(col_name):\n",
    "    max_id=df_movies[col_name].idxmax()\n",
    "    max_movie=pd.DataFrame(df_movies.loc[max_id,[\"original_title\",col_name,\"director\",\"genres\",\"release_year\"]])\n",
    "    min_id=df_movies[col_name].idxmin()\n",
    "    min_movie=pd.DataFrame(df_movies.loc[min_id,[\"original_title\",col_name,\"director\",\"genres\",\"release_year\"]])\n",
    "    \n",
    "    df_answer=pd.concat([max_movie,min_movie],axis=1)\n",
    "    \n",
    "    return df_answer"
   ]
  },
  {
   "cell_type": "markdown",
   "metadata": {},
   "source": [
    "__Answer 1.1__: The names of movies with maximum and minimum budget"
   ]
  },
  {
   "cell_type": "code",
   "execution_count": 16,
   "metadata": {},
   "outputs": [
    {
     "data": {
      "text/html": [
       "<div>\n",
       "<style scoped>\n",
       "    .dataframe tbody tr th:only-of-type {\n",
       "        vertical-align: middle;\n",
       "    }\n",
       "\n",
       "    .dataframe tbody tr th {\n",
       "        vertical-align: top;\n",
       "    }\n",
       "\n",
       "    .dataframe thead th {\n",
       "        text-align: right;\n",
       "    }\n",
       "</style>\n",
       "<table border=\"1\" class=\"dataframe\">\n",
       "  <thead>\n",
       "    <tr style=\"text-align: right;\">\n",
       "      <th></th>\n",
       "      <th>2244</th>\n",
       "      <th>2618</th>\n",
       "    </tr>\n",
       "  </thead>\n",
       "  <tbody>\n",
       "    <tr>\n",
       "      <th>original_title</th>\n",
       "      <td>The Warrior's Way</td>\n",
       "      <td>Lost &amp; Found</td>\n",
       "    </tr>\n",
       "    <tr>\n",
       "      <th>budget</th>\n",
       "      <td>425000000</td>\n",
       "      <td>1</td>\n",
       "    </tr>\n",
       "    <tr>\n",
       "      <th>director</th>\n",
       "      <td>Sngmoo Lee</td>\n",
       "      <td>Jeff Pollack</td>\n",
       "    </tr>\n",
       "    <tr>\n",
       "      <th>genres</th>\n",
       "      <td>Adventure|Fantasy|Action|Western|Thriller</td>\n",
       "      <td>Comedy|Romance</td>\n",
       "    </tr>\n",
       "    <tr>\n",
       "      <th>release_year</th>\n",
       "      <td>2010</td>\n",
       "      <td>1999</td>\n",
       "    </tr>\n",
       "  </tbody>\n",
       "</table>\n",
       "</div>"
      ],
      "text/plain": [
       "                                                     2244            2618\n",
       "original_title                          The Warrior's Way    Lost & Found\n",
       "budget                                          425000000               1\n",
       "director                                       Sngmoo Lee    Jeff Pollack\n",
       "genres          Adventure|Fantasy|Action|Western|Thriller  Comedy|Romance\n",
       "release_year                                         2010            1999"
      ]
     },
     "execution_count": 16,
     "metadata": {},
     "output_type": "execute_result"
    }
   ],
   "source": [
    "maxmin_movies('budget')"
   ]
  },
  {
   "cell_type": "markdown",
   "metadata": {},
   "source": [
    "The movie __The Warrior's Way__ released in year 2010 and directed by Sngmoo Lee had the maximum budget of __\\\\$425__ million\n",
    "\n",
    "The movie __Lost & Found__ released in year 1999 and directed by Jeff Pollack had the minimum budget of __\\\\$1__ only.\n",
    "\n",
    "The findings from this question increased my curiosity for understanding the other details of movie which had budget of just \\\\$1. Hence, let us fetch the details of this movie from original dataset"
   ]
  },
  {
   "cell_type": "code",
   "execution_count": 17,
   "metadata": {},
   "outputs": [
    {
     "data": {
      "text/html": [
       "<div>\n",
       "<style scoped>\n",
       "    .dataframe tbody tr th:only-of-type {\n",
       "        vertical-align: middle;\n",
       "    }\n",
       "\n",
       "    .dataframe tbody tr th {\n",
       "        vertical-align: top;\n",
       "    }\n",
       "\n",
       "    .dataframe thead th {\n",
       "        text-align: right;\n",
       "    }\n",
       "</style>\n",
       "<table border=\"1\" class=\"dataframe\">\n",
       "  <thead>\n",
       "    <tr style=\"text-align: right;\">\n",
       "      <th></th>\n",
       "      <th>id</th>\n",
       "      <th>imdb_id</th>\n",
       "      <th>popularity</th>\n",
       "      <th>budget</th>\n",
       "      <th>revenue</th>\n",
       "      <th>original_title</th>\n",
       "      <th>cast</th>\n",
       "      <th>homepage</th>\n",
       "      <th>director</th>\n",
       "      <th>tagline</th>\n",
       "      <th>...</th>\n",
       "      <th>overview</th>\n",
       "      <th>runtime</th>\n",
       "      <th>genres</th>\n",
       "      <th>production_companies</th>\n",
       "      <th>release_date</th>\n",
       "      <th>vote_count</th>\n",
       "      <th>vote_average</th>\n",
       "      <th>release_year</th>\n",
       "      <th>budget_adj</th>\n",
       "      <th>revenue_adj</th>\n",
       "    </tr>\n",
       "  </thead>\n",
       "  <tbody>\n",
       "    <tr>\n",
       "      <th>2618</th>\n",
       "      <td>39964</td>\n",
       "      <td>tt0120836</td>\n",
       "      <td>0.090186</td>\n",
       "      <td>1.0</td>\n",
       "      <td>100.0</td>\n",
       "      <td>Lost &amp; Found</td>\n",
       "      <td>David Spade|Sophie Marceau|Ever Carradine|Step...</td>\n",
       "      <td>NaN</td>\n",
       "      <td>Jeff Pollack</td>\n",
       "      <td>A comedy about a guy who would do anything to ...</td>\n",
       "      <td>...</td>\n",
       "      <td>A comedy about finding your true love at any p...</td>\n",
       "      <td>95</td>\n",
       "      <td>Comedy|Romance</td>\n",
       "      <td>Alcon Entertainment|Dinamo Entertainment</td>\n",
       "      <td>4/23/99</td>\n",
       "      <td>14</td>\n",
       "      <td>4.8</td>\n",
       "      <td>1999</td>\n",
       "      <td>1.309053</td>\n",
       "      <td>130.905285</td>\n",
       "    </tr>\n",
       "  </tbody>\n",
       "</table>\n",
       "<p>1 rows × 21 columns</p>\n",
       "</div>"
      ],
      "text/plain": [
       "         id    imdb_id  popularity  budget  revenue original_title  \\\n",
       "2618  39964  tt0120836    0.090186     1.0    100.0   Lost & Found   \n",
       "\n",
       "                                                   cast homepage  \\\n",
       "2618  David Spade|Sophie Marceau|Ever Carradine|Step...      NaN   \n",
       "\n",
       "          director                                            tagline  ...  \\\n",
       "2618  Jeff Pollack  A comedy about a guy who would do anything to ...  ...   \n",
       "\n",
       "                                               overview runtime  \\\n",
       "2618  A comedy about finding your true love at any p...      95   \n",
       "\n",
       "              genres                      production_companies release_date  \\\n",
       "2618  Comedy|Romance  Alcon Entertainment|Dinamo Entertainment      4/23/99   \n",
       "\n",
       "     vote_count  vote_average  release_year  budget_adj  revenue_adj  \n",
       "2618         14           4.8          1999    1.309053   130.905285  \n",
       "\n",
       "[1 rows x 21 columns]"
      ]
     },
     "execution_count": 17,
     "metadata": {},
     "output_type": "execute_result"
    }
   ],
   "source": [
    "df_tmdb[df_tmdb['original_title']=='Lost & Found']"
   ]
  },
  {
   "cell_type": "markdown",
   "metadata": {},
   "source": [
    "The movie __Lost & Found__ produced with only \\\\$ 1 budget was of 95 minutes and generated revenue of \\\\$ 100"
   ]
  },
  {
   "cell_type": "markdown",
   "metadata": {},
   "source": [
    "__Answer 1.2__: The names of movies with maximum and minimum revenue"
   ]
  },
  {
   "cell_type": "code",
   "execution_count": 18,
   "metadata": {},
   "outputs": [
    {
     "data": {
      "text/html": [
       "<div>\n",
       "<style scoped>\n",
       "    .dataframe tbody tr th:only-of-type {\n",
       "        vertical-align: middle;\n",
       "    }\n",
       "\n",
       "    .dataframe tbody tr th {\n",
       "        vertical-align: top;\n",
       "    }\n",
       "\n",
       "    .dataframe thead th {\n",
       "        text-align: right;\n",
       "    }\n",
       "</style>\n",
       "<table border=\"1\" class=\"dataframe\">\n",
       "  <thead>\n",
       "    <tr style=\"text-align: right;\">\n",
       "      <th></th>\n",
       "      <th>1386</th>\n",
       "      <th>5067</th>\n",
       "    </tr>\n",
       "  </thead>\n",
       "  <tbody>\n",
       "    <tr>\n",
       "      <th>original_title</th>\n",
       "      <td>Avatar</td>\n",
       "      <td>Shattered Glass</td>\n",
       "    </tr>\n",
       "    <tr>\n",
       "      <th>revenue</th>\n",
       "      <td>2781505847</td>\n",
       "      <td>2</td>\n",
       "    </tr>\n",
       "    <tr>\n",
       "      <th>director</th>\n",
       "      <td>James Cameron</td>\n",
       "      <td>Billy Ray</td>\n",
       "    </tr>\n",
       "    <tr>\n",
       "      <th>genres</th>\n",
       "      <td>Action|Adventure|Fantasy|Science Fiction</td>\n",
       "      <td>Drama|History</td>\n",
       "    </tr>\n",
       "    <tr>\n",
       "      <th>release_year</th>\n",
       "      <td>2009</td>\n",
       "      <td>2003</td>\n",
       "    </tr>\n",
       "  </tbody>\n",
       "</table>\n",
       "</div>"
      ],
      "text/plain": [
       "                                                    1386             5067\n",
       "original_title                                    Avatar  Shattered Glass\n",
       "revenue                                       2781505847                2\n",
       "director                                   James Cameron        Billy Ray\n",
       "genres          Action|Adventure|Fantasy|Science Fiction    Drama|History\n",
       "release_year                                        2009             2003"
      ]
     },
     "execution_count": 18,
     "metadata": {},
     "output_type": "execute_result"
    }
   ],
   "source": [
    "maxmin_movies('revenue')"
   ]
  },
  {
   "cell_type": "markdown",
   "metadata": {},
   "source": [
    "The movie __Avatar__ released in year 2009 and directed by James Cameron generated maximum revenue of __\\\\$2.78__ billion\n",
    "\n",
    "The movie __Shattered Glass__ released in year 2003 and directed by Billy Ray generated maximum revenue of __\\\\$2__"
   ]
  },
  {
   "cell_type": "markdown",
   "metadata": {},
   "source": [
    "__Answer 1.3__: The names of movies with maximum and minimum profit"
   ]
  },
  {
   "cell_type": "code",
   "execution_count": 19,
   "metadata": {},
   "outputs": [
    {
     "data": {
      "text/html": [
       "<div>\n",
       "<style scoped>\n",
       "    .dataframe tbody tr th:only-of-type {\n",
       "        vertical-align: middle;\n",
       "    }\n",
       "\n",
       "    .dataframe tbody tr th {\n",
       "        vertical-align: top;\n",
       "    }\n",
       "\n",
       "    .dataframe thead th {\n",
       "        text-align: right;\n",
       "    }\n",
       "</style>\n",
       "<table border=\"1\" class=\"dataframe\">\n",
       "  <thead>\n",
       "    <tr style=\"text-align: right;\">\n",
       "      <th></th>\n",
       "      <th>1386</th>\n",
       "      <th>2244</th>\n",
       "    </tr>\n",
       "  </thead>\n",
       "  <tbody>\n",
       "    <tr>\n",
       "      <th>original_title</th>\n",
       "      <td>Avatar</td>\n",
       "      <td>The Warrior's Way</td>\n",
       "    </tr>\n",
       "    <tr>\n",
       "      <th>profit</th>\n",
       "      <td>2544505847</td>\n",
       "      <td>-413912431</td>\n",
       "    </tr>\n",
       "    <tr>\n",
       "      <th>director</th>\n",
       "      <td>James Cameron</td>\n",
       "      <td>Sngmoo Lee</td>\n",
       "    </tr>\n",
       "    <tr>\n",
       "      <th>genres</th>\n",
       "      <td>Action|Adventure|Fantasy|Science Fiction</td>\n",
       "      <td>Adventure|Fantasy|Action|Western|Thriller</td>\n",
       "    </tr>\n",
       "    <tr>\n",
       "      <th>release_year</th>\n",
       "      <td>2009</td>\n",
       "      <td>2010</td>\n",
       "    </tr>\n",
       "  </tbody>\n",
       "</table>\n",
       "</div>"
      ],
      "text/plain": [
       "                                                    1386  \\\n",
       "original_title                                    Avatar   \n",
       "profit                                        2544505847   \n",
       "director                                   James Cameron   \n",
       "genres          Action|Adventure|Fantasy|Science Fiction   \n",
       "release_year                                        2009   \n",
       "\n",
       "                                                     2244  \n",
       "original_title                          The Warrior's Way  \n",
       "profit                                         -413912431  \n",
       "director                                       Sngmoo Lee  \n",
       "genres          Adventure|Fantasy|Action|Western|Thriller  \n",
       "release_year                                         2010  "
      ]
     },
     "execution_count": 19,
     "metadata": {},
     "output_type": "execute_result"
    }
   ],
   "source": [
    "maxmin_movies('profit')"
   ]
  },
  {
   "cell_type": "markdown",
   "metadata": {},
   "source": [
    "The movie __Avatar__ released in year 2009 and directed by James Cameron earned maximum __profit__ of __\\\\$2.5__ billion\n",
    "\n",
    "The movie __The Worrior's Way__ released in year 2010 and directed by Sngmoo Lee faced the __loss__ of __\\\\$413.9__ million"
   ]
  },
  {
   "cell_type": "markdown",
   "metadata": {},
   "source": [
    "__Answer 1.4__: The names of movies with maximum and minimum votes"
   ]
  },
  {
   "cell_type": "code",
   "execution_count": 20,
   "metadata": {},
   "outputs": [
    {
     "data": {
      "text/html": [
       "<div>\n",
       "<style scoped>\n",
       "    .dataframe tbody tr th:only-of-type {\n",
       "        vertical-align: middle;\n",
       "    }\n",
       "\n",
       "    .dataframe tbody tr th {\n",
       "        vertical-align: top;\n",
       "    }\n",
       "\n",
       "    .dataframe thead th {\n",
       "        text-align: right;\n",
       "    }\n",
       "</style>\n",
       "<table border=\"1\" class=\"dataframe\">\n",
       "  <thead>\n",
       "    <tr style=\"text-align: right;\">\n",
       "      <th></th>\n",
       "      <th>1919</th>\n",
       "      <th>1818</th>\n",
       "    </tr>\n",
       "  </thead>\n",
       "  <tbody>\n",
       "    <tr>\n",
       "      <th>original_title</th>\n",
       "      <td>Inception</td>\n",
       "      <td>Beautiful</td>\n",
       "    </tr>\n",
       "    <tr>\n",
       "      <th>vote_count</th>\n",
       "      <td>9767</td>\n",
       "      <td>10</td>\n",
       "    </tr>\n",
       "    <tr>\n",
       "      <th>director</th>\n",
       "      <td>Christopher Nolan</td>\n",
       "      <td>Dean O'Flaherty</td>\n",
       "    </tr>\n",
       "    <tr>\n",
       "      <th>genres</th>\n",
       "      <td>Action|Thriller|Science Fiction|Mystery|Adventure</td>\n",
       "      <td>Drama|Mystery|Thriller</td>\n",
       "    </tr>\n",
       "    <tr>\n",
       "      <th>release_year</th>\n",
       "      <td>2010</td>\n",
       "      <td>2009</td>\n",
       "    </tr>\n",
       "  </tbody>\n",
       "</table>\n",
       "</div>"
      ],
      "text/plain": [
       "                                                             1919  \\\n",
       "original_title                                          Inception   \n",
       "vote_count                                                   9767   \n",
       "director                                        Christopher Nolan   \n",
       "genres          Action|Thriller|Science Fiction|Mystery|Adventure   \n",
       "release_year                                                 2010   \n",
       "\n",
       "                                  1818  \n",
       "original_title               Beautiful  \n",
       "vote_count                          10  \n",
       "director               Dean O'Flaherty  \n",
       "genres          Drama|Mystery|Thriller  \n",
       "release_year                      2009  "
      ]
     },
     "execution_count": 20,
     "metadata": {},
     "output_type": "execute_result"
    }
   ],
   "source": [
    "maxmin_movies('vote_count')"
   ]
  },
  {
   "cell_type": "markdown",
   "metadata": {},
   "source": [
    "The movie __Inception__ released in year 2010 and directed by Christopher Nolan was voted maximum i.e. __9767__ times\n",
    "\n",
    "The movie __Beautiful__ released in year 2009 and directed by Dean O'Flaherty got as less as __10__ votes."
   ]
  },
  {
   "cell_type": "markdown",
   "metadata": {},
   "source": [
    "__Answer 1.5__: The names of movies with maximum and minimum runtime"
   ]
  },
  {
   "cell_type": "code",
   "execution_count": 21,
   "metadata": {},
   "outputs": [
    {
     "data": {
      "text/html": [
       "<div>\n",
       "<style scoped>\n",
       "    .dataframe tbody tr th:only-of-type {\n",
       "        vertical-align: middle;\n",
       "    }\n",
       "\n",
       "    .dataframe tbody tr th {\n",
       "        vertical-align: top;\n",
       "    }\n",
       "\n",
       "    .dataframe thead th {\n",
       "        text-align: right;\n",
       "    }\n",
       "</style>\n",
       "<table border=\"1\" class=\"dataframe\">\n",
       "  <thead>\n",
       "    <tr style=\"text-align: right;\">\n",
       "      <th></th>\n",
       "      <th>2107</th>\n",
       "      <th>5162</th>\n",
       "    </tr>\n",
       "  </thead>\n",
       "  <tbody>\n",
       "    <tr>\n",
       "      <th>original_title</th>\n",
       "      <td>Carlos</td>\n",
       "      <td>Kid's Story</td>\n",
       "    </tr>\n",
       "    <tr>\n",
       "      <th>runtime</th>\n",
       "      <td>338</td>\n",
       "      <td>15</td>\n",
       "    </tr>\n",
       "    <tr>\n",
       "      <th>director</th>\n",
       "      <td>Olivier Assayas</td>\n",
       "      <td>Shinichiro Watanabe</td>\n",
       "    </tr>\n",
       "    <tr>\n",
       "      <th>genres</th>\n",
       "      <td>Crime|Drama|Thriller|History</td>\n",
       "      <td>Science Fiction|Animation</td>\n",
       "    </tr>\n",
       "    <tr>\n",
       "      <th>release_year</th>\n",
       "      <td>2010</td>\n",
       "      <td>2003</td>\n",
       "    </tr>\n",
       "  </tbody>\n",
       "</table>\n",
       "</div>"
      ],
      "text/plain": [
       "                                        2107                       5162\n",
       "original_title                        Carlos                Kid's Story\n",
       "runtime                                  338                         15\n",
       "director                     Olivier Assayas        Shinichiro Watanabe\n",
       "genres          Crime|Drama|Thriller|History  Science Fiction|Animation\n",
       "release_year                            2010                       2003"
      ]
     },
     "execution_count": 21,
     "metadata": {},
     "output_type": "execute_result"
    }
   ],
   "source": [
    "maxmin_movies('runtime')"
   ]
  },
  {
   "cell_type": "markdown",
   "metadata": {},
   "source": [
    "Here, it looks like the History, drama based movies had more content to show and so the movie __Carlos__ released in year 2010 has the total duration of 338 minutes. However, the __Kid's story__ - the animation genre film was the shortest duration movie."
   ]
  },
  {
   "cell_type": "markdown",
   "metadata": {},
   "source": [
    "From answers of [Research Question 1](#Research-Question-1), it is found that the movies belonging to Action, Science Fiction, Adventure, Fantasy had the maximum budget, revenue and profit. Surprisingly, the movie which faced highest loss also belongs to the similar genres.\n",
    "\n",
    "Even though the column _popularity_ in original dataset doesn't provide any information about the values in this column. Let us assume that more the value of column _popularity_, more popular the movie is. Hence, I explored some more data from the original dataframe and found the below results."
   ]
  },
  {
   "cell_type": "code",
   "execution_count": 22,
   "metadata": {},
   "outputs": [
    {
     "data": {
      "text/html": [
       "<div>\n",
       "<style scoped>\n",
       "    .dataframe tbody tr th:only-of-type {\n",
       "        vertical-align: middle;\n",
       "    }\n",
       "\n",
       "    .dataframe tbody tr th {\n",
       "        vertical-align: top;\n",
       "    }\n",
       "\n",
       "    .dataframe thead th {\n",
       "        text-align: right;\n",
       "    }\n",
       "</style>\n",
       "<table border=\"1\" class=\"dataframe\">\n",
       "  <thead>\n",
       "    <tr style=\"text-align: right;\">\n",
       "      <th></th>\n",
       "      <th>original_title</th>\n",
       "      <th>popularity</th>\n",
       "      <th>genres</th>\n",
       "    </tr>\n",
       "  </thead>\n",
       "  <tbody>\n",
       "    <tr>\n",
       "      <th>0</th>\n",
       "      <td>Jurassic World</td>\n",
       "      <td>32.985763</td>\n",
       "      <td>Action|Adventure|Science Fiction|Thriller</td>\n",
       "    </tr>\n",
       "    <tr>\n",
       "      <th>1</th>\n",
       "      <td>Mad Max: Fury Road</td>\n",
       "      <td>28.419936</td>\n",
       "      <td>Action|Adventure|Science Fiction|Thriller</td>\n",
       "    </tr>\n",
       "    <tr>\n",
       "      <th>629</th>\n",
       "      <td>Interstellar</td>\n",
       "      <td>24.949134</td>\n",
       "      <td>Adventure|Drama|Science Fiction</td>\n",
       "    </tr>\n",
       "    <tr>\n",
       "      <th>630</th>\n",
       "      <td>Guardians of the Galaxy</td>\n",
       "      <td>14.311205</td>\n",
       "      <td>Action|Science Fiction|Adventure</td>\n",
       "    </tr>\n",
       "    <tr>\n",
       "      <th>2</th>\n",
       "      <td>Insurgent</td>\n",
       "      <td>13.112507</td>\n",
       "      <td>Adventure|Science Fiction|Thriller</td>\n",
       "    </tr>\n",
       "    <tr>\n",
       "      <th>631</th>\n",
       "      <td>Captain America: The Winter Soldier</td>\n",
       "      <td>12.971027</td>\n",
       "      <td>Action|Adventure|Science Fiction</td>\n",
       "    </tr>\n",
       "    <tr>\n",
       "      <th>1329</th>\n",
       "      <td>Star Wars</td>\n",
       "      <td>12.037933</td>\n",
       "      <td>Adventure|Action|Science Fiction</td>\n",
       "    </tr>\n",
       "    <tr>\n",
       "      <th>632</th>\n",
       "      <td>John Wick</td>\n",
       "      <td>11.422751</td>\n",
       "      <td>Action|Thriller</td>\n",
       "    </tr>\n",
       "    <tr>\n",
       "      <th>3</th>\n",
       "      <td>Star Wars: The Force Awakens</td>\n",
       "      <td>11.173104</td>\n",
       "      <td>Action|Adventure|Science Fiction|Fantasy</td>\n",
       "    </tr>\n",
       "    <tr>\n",
       "      <th>633</th>\n",
       "      <td>The Hunger Games: Mockingjay - Part 1</td>\n",
       "      <td>10.739009</td>\n",
       "      <td>Science Fiction|Adventure|Thriller</td>\n",
       "    </tr>\n",
       "  </tbody>\n",
       "</table>\n",
       "</div>"
      ],
      "text/plain": [
       "                             original_title  popularity  \\\n",
       "0                            Jurassic World   32.985763   \n",
       "1                        Mad Max: Fury Road   28.419936   \n",
       "629                            Interstellar   24.949134   \n",
       "630                 Guardians of the Galaxy   14.311205   \n",
       "2                                 Insurgent   13.112507   \n",
       "631     Captain America: The Winter Soldier   12.971027   \n",
       "1329                              Star Wars   12.037933   \n",
       "632                               John Wick   11.422751   \n",
       "3              Star Wars: The Force Awakens   11.173104   \n",
       "633   The Hunger Games: Mockingjay - Part 1   10.739009   \n",
       "\n",
       "                                         genres  \n",
       "0     Action|Adventure|Science Fiction|Thriller  \n",
       "1     Action|Adventure|Science Fiction|Thriller  \n",
       "629             Adventure|Drama|Science Fiction  \n",
       "630            Action|Science Fiction|Adventure  \n",
       "2            Adventure|Science Fiction|Thriller  \n",
       "631            Action|Adventure|Science Fiction  \n",
       "1329           Adventure|Action|Science Fiction  \n",
       "632                             Action|Thriller  \n",
       "3      Action|Adventure|Science Fiction|Fantasy  \n",
       "633          Science Fiction|Adventure|Thriller  "
      ]
     },
     "execution_count": 22,
     "metadata": {},
     "output_type": "execute_result"
    }
   ],
   "source": [
    "df_popular=df_tmdb.sort_values(by='popularity',ascending=False)\n",
    "df_popular[[\"original_title\",\"popularity\",\"genres\"]].head(10)"
   ]
  },
  {
   "cell_type": "markdown",
   "metadata": {},
   "source": [
    "The movies in _Science Fiction, Adventure, Action, Thriller_ genres not only had the highest budget but also these movies were more popular amongst all the movies present in the dataset"
   ]
  },
  {
   "cell_type": "markdown",
   "metadata": {},
   "source": [
    "----"
   ]
  },
  {
   "cell_type": "markdown",
   "metadata": {},
   "source": [
    "#### Research Question 2: Average Values\n",
    "            \n",
    "            2.1 What is average budget of movies ?\n",
    "            2.2 What is average revenue generated by movies ?\n",
    "            2.3 What is average profit made by movies ?\n",
    "            2.4 What is average runtime of movies ?"
   ]
  },
  {
   "cell_type": "markdown",
   "metadata": {},
   "source": [
    "Again we are about find the average values of all the features. Hence, let's make another function."
   ]
  },
  {
   "cell_type": "code",
   "execution_count": 23,
   "metadata": {},
   "outputs": [],
   "source": [
    "def avg_movies(col_name):\n",
    "    return df_movies[col_name].mean()"
   ]
  },
  {
   "cell_type": "markdown",
   "metadata": {},
   "source": [
    "__Answer 2.1__: Average budget"
   ]
  },
  {
   "cell_type": "code",
   "execution_count": 24,
   "metadata": {},
   "outputs": [
    {
     "name": "stdout",
     "output_type": "stream",
     "text": [
      "The average budget of all the movies is = $37212267.859849\n"
     ]
    }
   ],
   "source": [
    "print('The average budget of all the movies is = $%f'%avg_movies('budget'))"
   ]
  },
  {
   "cell_type": "markdown",
   "metadata": {},
   "source": [
    "__Answer 2.2__: Average revenue"
   ]
  },
  {
   "cell_type": "code",
   "execution_count": 25,
   "metadata": {},
   "outputs": [
    {
     "name": "stdout",
     "output_type": "stream",
     "text": [
      "The average revenue generated by all the movies is = $107711709.951207\n"
     ]
    }
   ],
   "source": [
    "print('The average revenue generated by all the movies is = $%f'%avg_movies('revenue'))"
   ]
  },
  {
   "cell_type": "markdown",
   "metadata": {},
   "source": [
    "__Answer 2.3__: Average profit"
   ]
  },
  {
   "cell_type": "code",
   "execution_count": 26,
   "metadata": {},
   "outputs": [
    {
     "name": "stdout",
     "output_type": "stream",
     "text": [
      "The average profit of all the movies is = $70499442.091357\n"
     ]
    }
   ],
   "source": [
    "print('The average profit of all the movies is = $%f'%avg_movies('profit'))"
   ]
  },
  {
   "cell_type": "markdown",
   "metadata": {},
   "source": [
    "__Answer 2.4__: Average runtime"
   ]
  },
  {
   "cell_type": "code",
   "execution_count": 27,
   "metadata": {},
   "outputs": [
    {
     "name": "stdout",
     "output_type": "stream",
     "text": [
      "The average runtime of all the movies is = 109.208928 minutes\n"
     ]
    }
   ],
   "source": [
    "print('The average runtime of all the movies is = %f minutes'%avg_movies('runtime'))"
   ]
  },
  {
   "cell_type": "markdown",
   "metadata": {},
   "source": [
    "To understand the runtime of all movies in even better way, we can use the boxplot. and for it we can use seaborn library."
   ]
  },
  {
   "cell_type": "code",
   "execution_count": 28,
   "metadata": {},
   "outputs": [
    {
     "data": {
      "text/plain": [
       "Text(0.5, 0, 'runtime')"
      ]
     },
     "execution_count": 28,
     "metadata": {},
     "output_type": "execute_result"
    },
    {
     "data": {
      "image/png": "[encoded data removed]",
      "text/plain": [
       "<Figure size 1440x360 with 1 Axes>"
      ]
     },
     "metadata": {
      "needs_background": "light"
     },
     "output_type": "display_data"
    }
   ],
   "source": [
    "plt.style.use('seaborn-muted')\n",
    "ax=plt.figure(figsize=(20,5))\n",
    "ax=sns.boxplot(df_movies['runtime'],linewidth=4,color='orange')\n",
    "ax.set_xlabel('runtime')"
   ]
  },
  {
   "cell_type": "markdown",
   "metadata": {},
   "source": [
    "From this box plot, 25% of movies have runtime 95 minutes, 50% of movies have runtime of 106 minutes. The maximum and minimum values are already found in the [Research Question 1](#Research-Question-1) and same values are visualized in this box plot."
   ]
  },
  {
   "cell_type": "markdown",
   "metadata": {},
   "source": [
    "---"
   ]
  },
  {
   "cell_type": "markdown",
   "metadata": {},
   "source": [
    "__Research Question 3: Is there any relationship between budget, revenue, profit, runtime and votes ?__"
   ]
  },
  {
   "cell_type": "code",
   "execution_count": 29,
   "metadata": {},
   "outputs": [
    {
     "data": {
      "text/plain": [
       "<seaborn.axisgrid.PairGrid at 0x1b9f87257c8>"
      ]
     },
     "execution_count": 29,
     "metadata": {},
     "output_type": "execute_result"
    },
    {
     "data": {
      "image/png": "[encoded data removed]",
      "text/plain": [
       "<Figure size 900x900 with 30 Axes>"
      ]
     },
     "metadata": {},
     "output_type": "display_data"
    }
   ],
   "source": [
    "sns.set(style=\"ticks\", color_codes=True)\n",
    "sns.pairplot(df_movies[[\"budget\",\"revenue\",\"profit\",\"runtime\",\"vote_count\"]])"
   ]
  },
  {
   "cell_type": "markdown",
   "metadata": {},
   "source": [
    "All the features _budget, revenue, profit, runtime_ and _vote_count_ are plotted in the same figure using seaborn pairplot.\n",
    "However, no direct relationship is observed among them except for _revenue_ and _profit_. As revenue increases the profit also increases. So, there are very few movies for which revenue generated is lower than the budget. In the current dataset of movies data from year 1960 to 2015, it can be said that very few movies faced loss."
   ]
  },
  {
   "cell_type": "code",
   "execution_count": 30,
   "metadata": {},
   "outputs": [
    {
     "data": {
      "image/png": "[encoded data removed]",
      "text/plain": [
       "<Figure size 720x720 with 1 Axes>"
      ]
     },
     "metadata": {},
     "output_type": "display_data"
    }
   ],
   "source": [
    "plt.style.use('seaborn-darkgrid')\n",
    "plt.figure(figsize=(10,10))\n",
    "per_year_budget=df_movies.groupby('release_year')['budget'].sum()\n",
    "per_year_revenue=df_movies.groupby('release_year')['revenue'].sum()\n",
    "per_year_profit=df_movies.groupby('release_year')['profit'].sum()\n",
    "plt.plot(per_year_budget,'-y', label='budget')\n",
    "plt.plot(per_year_revenue,'-b', label='revenue')\n",
    "plt.plot(per_year_profit,'-g', label='profit')\n",
    "plt.xlabel('Release Year')\n",
    "plt.ylabel('Amount in US Dollar')\n",
    "plt.title('Financial Performance of Movies')\n",
    "plt.legend()\n",
    "plt.show()"
   ]
  },
  {
   "cell_type": "markdown",
   "metadata": {},
   "source": [
    "It can be seen that, in last 2 decades there is sharp increase in budget, revenue and profit from the movies. However, after year 2010 the budget of movies shows decreasing trend."
   ]
  },
  {
   "cell_type": "markdown",
   "metadata": {},
   "source": [
    "----"
   ]
  },
  {
   "cell_type": "markdown",
   "metadata": {},
   "source": [
    "#### Research Question 4: Common Appearance\n",
    "\n",
    "            4.1 Which Director directed maximum number of movies ?\n",
    "            4.2 Which Actor appeared in most of the movies ?\n",
    "            4.3 Which genre of movies was produced most of the times in current dataset ?\n",
    "            4.4 Which genre is common amongst top 10 high budget movies ?\n",
    "            4.5 Which genre is common amongst top 10 high profit movies ?\n",
    "            4.6 Which genre is common amongst top 10 high runtime movies ?"
   ]
  },
  {
   "cell_type": "markdown",
   "metadata": {},
   "source": [
    "Again, I will be finding answer for similar type of questions and there are some special characters in the _director, cast_ and _genres_ columns, I will write a function. This function will collect the data from these individual columns, arrange them in series and make a count.\n",
    "\n",
    "To answer some of these questions, I need to use the <code>df_tmdb</code> dataset which is prepared before Data Wrangling step"
   ]
  },
  {
   "cell_type": "code",
   "execution_count": 31,
   "metadata": {},
   "outputs": [],
   "source": [
    "def splitandcollect(col_name):\n",
    "    coldata=pd.Series(df_tmdb[col_name].str.cat(sep='|').split('|'))\n",
    "    count_coldata=coldata.value_counts(ascending=False)\n",
    "    return count_coldata"
   ]
  },
  {
   "cell_type": "markdown",
   "metadata": {},
   "source": [
    "__Answer 4.1__: Director with maximum number of movies"
   ]
  },
  {
   "cell_type": "code",
   "execution_count": 32,
   "metadata": {},
   "outputs": [
    {
     "data": {
      "text/plain": [
       "Steven Spielberg       28\n",
       "Clint Eastwood         24\n",
       "Ridley Scott           21\n",
       "Woody Allen            18\n",
       "Tim Burton             17\n",
       "                       ..\n",
       "Eric Leighton           1\n",
       "Benedikt Erlingsson     1\n",
       "Darren Stein            1\n",
       "Joseph Sargent          1\n",
       "Akiva Schaffer          1\n",
       "Length: 1785, dtype: int64"
      ]
     },
     "execution_count": 32,
     "metadata": {},
     "output_type": "execute_result"
    }
   ],
   "source": [
    "splitandcollect('director')"
   ]
  },
  {
   "cell_type": "markdown",
   "metadata": {},
   "source": [
    "There are 1785 total number of directors in the dataset and out of them __Steven Spielberg__ directed maximum of __28__ movies. In this race, he is followed by _Clint Eastwood_ and _Ridley Scott_ with 24 and 21 movies respectively."
   ]
  },
  {
   "cell_type": "markdown",
   "metadata": {},
   "source": [
    "__Answer 4.2__: Frequently appeared actor"
   ]
  },
  {
   "cell_type": "code",
   "execution_count": 33,
   "metadata": {},
   "outputs": [
    {
     "data": {
      "text/plain": [
       "Robert De Niro        52\n",
       "Bruce Willis          46\n",
       "Samuel L. Jackson     44\n",
       "Nicolas Cage          43\n",
       "Matt Damon            36\n",
       "                      ..\n",
       "Jonathan Freeman       1\n",
       "Peter Fonda            1\n",
       "Phoebe Fox             1\n",
       "Julanne Chidi Hill     1\n",
       "Sarah Peirse           1\n",
       "Length: 6839, dtype: int64"
      ]
     },
     "execution_count": 33,
     "metadata": {},
     "output_type": "execute_result"
    }
   ],
   "source": [
    "splitandcollect('cast')"
   ]
  },
  {
   "cell_type": "markdown",
   "metadata": {},
   "source": [
    "Out of 6839 total number of actors, __Robert De Niro__ was appeared maximum number of times. He worked in __52__ movies"
   ]
  },
  {
   "cell_type": "markdown",
   "metadata": {},
   "source": [
    "__Answer 4.3__: Frequently appeared genres"
   ]
  },
  {
   "cell_type": "code",
   "execution_count": 34,
   "metadata": {},
   "outputs": [
    {
     "data": {
      "text/plain": [
       "[Text(0, 0.5, 'Number of Movies'),\n",
       " Text(0.5, 0, 'Genre'),\n",
       " Text(0.5, 1.0, 'Genre wise Movie Count')]"
      ]
     },
     "execution_count": 34,
     "metadata": {},
     "output_type": "execute_result"
    },
    {
     "data": {
      "image/png": "[encoded data removed]",
      "text/plain": [
       "<Figure size 432x288 with 1 Axes>"
      ]
     },
     "metadata": {},
     "output_type": "display_data"
    }
   ],
   "source": [
    "splitandcollect('genres').plot.bar().set(title='Genre wise Movie Count',xlabel='Genre',ylabel='Number of Movies')"
   ]
  },
  {
   "cell_type": "markdown",
   "metadata": {},
   "source": [
    "As I had previously observed that, the number of genres was not so large and hence can be represented in a graph, so I directly generated the graph. Clearly, __Drama__ wins the count-competition with maximum __1750__ movies followed by _Comedy, Thriller, Action_ and _Adventure_."
   ]
  },
  {
   "cell_type": "markdown",
   "metadata": {},
   "source": [
    "In the next questions, I will explore which genre movies had the highest budget and which genre movies earned the huge profit."
   ]
  },
  {
   "cell_type": "markdown",
   "metadata": {},
   "source": [
    "------"
   ]
  },
  {
   "cell_type": "markdown",
   "metadata": {},
   "source": [
    "let us create a new dataframe <code>df_gencount</code> as a slice from <code>df_tmdb</code> dataframe. This will be used to answer the questions 4.4, 4.5 and 4.6"
   ]
  },
  {
   "cell_type": "code",
   "execution_count": 35,
   "metadata": {},
   "outputs": [
    {
     "data": {
      "text/html": [
       "<div>\n",
       "<style scoped>\n",
       "    .dataframe tbody tr th:only-of-type {\n",
       "        vertical-align: middle;\n",
       "    }\n",
       "\n",
       "    .dataframe tbody tr th {\n",
       "        vertical-align: top;\n",
       "    }\n",
       "\n",
       "    .dataframe thead th {\n",
       "        text-align: right;\n",
       "    }\n",
       "</style>\n",
       "<table border=\"1\" class=\"dataframe\">\n",
       "  <thead>\n",
       "    <tr style=\"text-align: right;\">\n",
       "      <th></th>\n",
       "      <th>original_title</th>\n",
       "      <th>genres</th>\n",
       "      <th>runtime</th>\n",
       "      <th>budget</th>\n",
       "      <th>profit</th>\n",
       "    </tr>\n",
       "  </thead>\n",
       "  <tbody>\n",
       "    <tr>\n",
       "      <th>0</th>\n",
       "      <td>Jurassic World</td>\n",
       "      <td>Action|Adventure|Science Fiction|Thriller</td>\n",
       "      <td>124</td>\n",
       "      <td>150000000</td>\n",
       "      <td>1363528810</td>\n",
       "    </tr>\n",
       "    <tr>\n",
       "      <th>1</th>\n",
       "      <td>Mad Max: Fury Road</td>\n",
       "      <td>Action|Adventure|Science Fiction|Thriller</td>\n",
       "      <td>120</td>\n",
       "      <td>150000000</td>\n",
       "      <td>228436354</td>\n",
       "    </tr>\n",
       "    <tr>\n",
       "      <th>2</th>\n",
       "      <td>Insurgent</td>\n",
       "      <td>Adventure|Science Fiction|Thriller</td>\n",
       "      <td>119</td>\n",
       "      <td>110000000</td>\n",
       "      <td>185238201</td>\n",
       "    </tr>\n",
       "    <tr>\n",
       "      <th>3</th>\n",
       "      <td>Star Wars: The Force Awakens</td>\n",
       "      <td>Action|Adventure|Science Fiction|Fantasy</td>\n",
       "      <td>136</td>\n",
       "      <td>200000000</td>\n",
       "      <td>1868178225</td>\n",
       "    </tr>\n",
       "    <tr>\n",
       "      <th>4</th>\n",
       "      <td>Furious 7</td>\n",
       "      <td>Action|Crime|Thriller</td>\n",
       "      <td>137</td>\n",
       "      <td>190000000</td>\n",
       "      <td>1316249360</td>\n",
       "    </tr>\n",
       "  </tbody>\n",
       "</table>\n",
       "</div>"
      ],
      "text/plain": [
       "                 original_title                                     genres  \\\n",
       "0                Jurassic World  Action|Adventure|Science Fiction|Thriller   \n",
       "1            Mad Max: Fury Road  Action|Adventure|Science Fiction|Thriller   \n",
       "2                     Insurgent         Adventure|Science Fiction|Thriller   \n",
       "3  Star Wars: The Force Awakens   Action|Adventure|Science Fiction|Fantasy   \n",
       "4                     Furious 7                      Action|Crime|Thriller   \n",
       "\n",
       "   runtime     budget      profit  \n",
       "0      124  150000000  1363528810  \n",
       "1      120  150000000   228436354  \n",
       "2      119  110000000   185238201  \n",
       "3      136  200000000  1868178225  \n",
       "4      137  190000000  1316249360  "
      ]
     },
     "execution_count": 35,
     "metadata": {},
     "output_type": "execute_result"
    }
   ],
   "source": [
    "df_gencount=df_tmdb.loc[:,[\"original_title\",\"genres\",\"runtime\",\"budget\",\"revenue\"]]\n",
    "df_gencount[\"profit\"]=df_gencount[\"revenue\"]-df_gencount[\"budget\"]\n",
    "df_gencount[\"budget\"]=df_gencount[\"budget\"].astype('int64')\n",
    "df_gencount[\"profit\"]=df_gencount[\"profit\"].astype('int64')\n",
    "df_gencount.drop([\"revenue\"],axis=1,inplace=True)\n",
    "df_gencount.head()"
   ]
  },
  {
   "cell_type": "code",
   "execution_count": 36,
   "metadata": {},
   "outputs": [
    {
     "name": "stdout",
     "output_type": "stream",
     "text": [
      "<class 'pandas.core.frame.DataFrame'>\n",
      "Int64Index: 3854 entries, 0 to 10848\n",
      "Data columns (total 5 columns):\n",
      " #   Column          Non-Null Count  Dtype \n",
      "---  ------          --------------  ----- \n",
      " 0   original_title  3854 non-null   object\n",
      " 1   genres          3854 non-null   object\n",
      " 2   runtime         3854 non-null   int64 \n",
      " 3   budget          3854 non-null   int64 \n",
      " 4   profit          3854 non-null   int64 \n",
      "dtypes: int64(3), object(2)\n",
      "memory usage: 340.7+ KB\n"
     ]
    }
   ],
   "source": [
    "df_gencount.info()"
   ]
  },
  {
   "cell_type": "markdown",
   "metadata": {},
   "source": [
    "this step confirmed that all the data we need is in right data type."
   ]
  },
  {
   "cell_type": "markdown",
   "metadata": {},
   "source": [
    "__Answer 4.4__: Common Genre in top 10 highest budget movies"
   ]
  },
  {
   "cell_type": "code",
   "execution_count": 37,
   "metadata": {},
   "outputs": [
    {
     "data": {
      "text/plain": [
       "Adventure          9\n",
       "Action             8\n",
       "Fantasy            7\n",
       "Science Fiction    3\n",
       "Western            2\n",
       "Family             2\n",
       "Animation          1\n",
       "Thriller           1\n",
       "dtype: int64"
      ]
     },
     "execution_count": 37,
     "metadata": {},
     "output_type": "execute_result"
    }
   ],
   "source": [
    "df_gencount.sort_values(by=\"budget\",ascending=False,inplace=True)\n",
    "top10=df_gencount.head(10)\n",
    "coldata=pd.Series(top10[\"genres\"].str.cat(sep='|').split('|'))\n",
    "countbudget=coldata.value_counts(ascending=False)\n",
    "countbudget"
   ]
  },
  {
   "cell_type": "markdown",
   "metadata": {},
   "source": [
    "__Adventurous__ movies are common in top 10 high budget movies. Out of top 10 movies, __9__ movies belong to Adventure genre. As few as only 1 movie belongs to each of _Thriller_ and _Animation_ genre.\n",
    "Let us check what type of movies are common in high profit earning movies."
   ]
  },
  {
   "cell_type": "markdown",
   "metadata": {},
   "source": [
    "__Answer 4.5__: Common Genre in top 10 high profit making movies"
   ]
  },
  {
   "cell_type": "code",
   "execution_count": 38,
   "metadata": {},
   "outputs": [
    {
     "data": {
      "text/plain": [
       "Adventure          7\n",
       "Action             7\n",
       "Science Fiction    5\n",
       "Thriller           4\n",
       "Fantasy            3\n",
       "Crime              2\n",
       "Drama              2\n",
       "Family             2\n",
       "Animation          1\n",
       "Mystery            1\n",
       "Romance            1\n",
       "dtype: int64"
      ]
     },
     "execution_count": 38,
     "metadata": {},
     "output_type": "execute_result"
    }
   ],
   "source": [
    "df_gencount.sort_values(by=\"profit\",ascending=False, inplace=True)\n",
    "top10p=df_gencount.head(10)\n",
    "coldata=pd.Series(top10p[\"genres\"].str.cat(sep='|').split('|'))\n",
    "countprofit=coldata.value_counts(ascending=False)\n",
    "countprofit"
   ]
  },
  {
   "cell_type": "markdown",
   "metadata": {},
   "source": [
    "Similar trend is observed in high profit earning movies. So, in top 10 high profit earning movies __7__ were of __Adventure__ and _Action_ genre. When we consider profit earned by movies few more genres such as _Romance, Mistery_ and _Crime_ come into the picture with 1 movie each."
   ]
  },
  {
   "cell_type": "markdown",
   "metadata": {},
   "source": [
    "__Answer 4.6__: Common Genre in top 10 high runtime movies"
   ]
  },
  {
   "cell_type": "code",
   "execution_count": 39,
   "metadata": {},
   "outputs": [
    {
     "data": {
      "text/plain": [
       "Drama        9\n",
       "History      8\n",
       "Adventure    3\n",
       "Action       3\n",
       "Crime        2\n",
       "War          2\n",
       "Western      1\n",
       "Foreign      1\n",
       "Fantasy      1\n",
       "Thriller     1\n",
       "Romance      1\n",
       "dtype: int64"
      ]
     },
     "execution_count": 39,
     "metadata": {},
     "output_type": "execute_result"
    }
   ],
   "source": [
    "df_gencount.sort_values(by=\"runtime\",ascending=False, inplace=True)\n",
    "top10r=df_gencount.head(10)\n",
    "coldata=pd.Series(top10r[\"genres\"].str.cat(sep='|').split('|'))\n",
    "countruntime=coldata.value_counts(ascending=False)\n",
    "countruntime"
   ]
  },
  {
   "cell_type": "code",
   "execution_count": 40,
   "metadata": {},
   "outputs": [
    {
     "data": {
      "text/html": [
       "<div>\n",
       "<style scoped>\n",
       "    .dataframe tbody tr th:only-of-type {\n",
       "        vertical-align: middle;\n",
       "    }\n",
       "\n",
       "    .dataframe tbody tr th {\n",
       "        vertical-align: top;\n",
       "    }\n",
       "\n",
       "    .dataframe thead th {\n",
       "        text-align: right;\n",
       "    }\n",
       "</style>\n",
       "<table border=\"1\" class=\"dataframe\">\n",
       "  <thead>\n",
       "    <tr style=\"text-align: right;\">\n",
       "      <th></th>\n",
       "      <th>original_title</th>\n",
       "      <th>genres</th>\n",
       "      <th>runtime</th>\n",
       "      <th>budget</th>\n",
       "      <th>profit</th>\n",
       "    </tr>\n",
       "  </thead>\n",
       "  <tbody>\n",
       "    <tr>\n",
       "      <th>2107</th>\n",
       "      <td>Carlos</td>\n",
       "      <td>Crime|Drama|Thriller|History</td>\n",
       "      <td>338</td>\n",
       "      <td>18000000</td>\n",
       "      <td>-17128721</td>\n",
       "    </tr>\n",
       "    <tr>\n",
       "      <th>10443</th>\n",
       "      <td>Cleopatra</td>\n",
       "      <td>Drama|History|Romance</td>\n",
       "      <td>248</td>\n",
       "      <td>31115000</td>\n",
       "      <td>26635000</td>\n",
       "    </tr>\n",
       "    <tr>\n",
       "      <th>7332</th>\n",
       "      <td>Heaven's Gate</td>\n",
       "      <td>Action|Drama|History|Western</td>\n",
       "      <td>219</td>\n",
       "      <td>44000000</td>\n",
       "      <td>-40515669</td>\n",
       "    </tr>\n",
       "    <tr>\n",
       "      <th>9850</th>\n",
       "      <td>Lawrence of Arabia</td>\n",
       "      <td>Adventure|Drama|History|War</td>\n",
       "      <td>216</td>\n",
       "      <td>15000000</td>\n",
       "      <td>55000000</td>\n",
       "    </tr>\n",
       "    <tr>\n",
       "      <th>5065</th>\n",
       "      <td>Gods and Generals</td>\n",
       "      <td>Drama|History|War</td>\n",
       "      <td>214</td>\n",
       "      <td>56000000</td>\n",
       "      <td>-43076064</td>\n",
       "    </tr>\n",
       "    <tr>\n",
       "      <th>3110</th>\n",
       "      <td>Jodhaa Akbar</td>\n",
       "      <td>Action|Adventure|Drama|Foreign|History</td>\n",
       "      <td>213</td>\n",
       "      <td>8376800</td>\n",
       "      <td>4623200</td>\n",
       "    </tr>\n",
       "    <tr>\n",
       "      <th>8282</th>\n",
       "      <td>Malcolm X</td>\n",
       "      <td>Drama|History</td>\n",
       "      <td>202</td>\n",
       "      <td>34000000</td>\n",
       "      <td>14169908</td>\n",
       "    </tr>\n",
       "    <tr>\n",
       "      <th>4949</th>\n",
       "      <td>The Lord of the Rings: The Return of the King</td>\n",
       "      <td>Adventure|Fantasy|Action</td>\n",
       "      <td>201</td>\n",
       "      <td>94000000</td>\n",
       "      <td>1024888979</td>\n",
       "    </tr>\n",
       "    <tr>\n",
       "      <th>9758</th>\n",
       "      <td>The Godfather: Part II</td>\n",
       "      <td>Drama|Crime</td>\n",
       "      <td>200</td>\n",
       "      <td>13000000</td>\n",
       "      <td>34542841</td>\n",
       "    </tr>\n",
       "    <tr>\n",
       "      <th>10716</th>\n",
       "      <td>The Greatest Story Ever Told</td>\n",
       "      <td>Drama|History</td>\n",
       "      <td>199</td>\n",
       "      <td>20000000</td>\n",
       "      <td>-8000000</td>\n",
       "    </tr>\n",
       "  </tbody>\n",
       "</table>\n",
       "</div>"
      ],
      "text/plain": [
       "                                      original_title  \\\n",
       "2107                                          Carlos   \n",
       "10443                                      Cleopatra   \n",
       "7332                                   Heaven's Gate   \n",
       "9850                              Lawrence of Arabia   \n",
       "5065                               Gods and Generals   \n",
       "3110                                    Jodhaa Akbar   \n",
       "8282                                       Malcolm X   \n",
       "4949   The Lord of the Rings: The Return of the King   \n",
       "9758                          The Godfather: Part II   \n",
       "10716                   The Greatest Story Ever Told   \n",
       "\n",
       "                                       genres  runtime    budget      profit  \n",
       "2107             Crime|Drama|Thriller|History      338  18000000   -17128721  \n",
       "10443                   Drama|History|Romance      248  31115000    26635000  \n",
       "7332             Action|Drama|History|Western      219  44000000   -40515669  \n",
       "9850              Adventure|Drama|History|War      216  15000000    55000000  \n",
       "5065                        Drama|History|War      214  56000000   -43076064  \n",
       "3110   Action|Adventure|Drama|Foreign|History      213   8376800     4623200  \n",
       "8282                            Drama|History      202  34000000    14169908  \n",
       "4949                 Adventure|Fantasy|Action      201  94000000  1024888979  \n",
       "9758                              Drama|Crime      200  13000000    34542841  \n",
       "10716                           Drama|History      199  20000000    -8000000  "
      ]
     },
     "execution_count": 40,
     "metadata": {},
     "output_type": "execute_result"
    }
   ],
   "source": [
    "top10r"
   ]
  },
  {
   "cell_type": "code",
   "execution_count": 53,
   "metadata": {},
   "outputs": [
    {
     "data": {
      "text/plain": [
       "(array([0, 1, 2, 3, 4, 5, 6, 7, 8, 9]),\n",
       " <a list of 10 Text major ticklabel objects>)"
      ]
     },
     "execution_count": 53,
     "metadata": {},
     "output_type": "execute_result"
    },
    {
     "data": {
      "image/png": "[encoded data removed]",
      "text/plain": [
       "<Figure size 432x288 with 1 Axes>"
      ]
     },
     "metadata": {},
     "output_type": "display_data"
    }
   ],
   "source": [
    "top10r.set_index(np.arange(1,11),inplace=True)\n",
    "top10r.plot(y=[\"runtime\"],kind='bar')\n",
    "plt.xlabel('Rank of Movie')\n",
    "plt.ylabel('Runtime in Minutes')\n",
    "plt.title('Top 10 longest duration Movies')\n",
    "plt.xticks(rotation='horizontal')"
   ]
  },
  {
   "cell_type": "markdown",
   "metadata": {},
   "source": [
    "Tough competition !! Except from the 1st Movie __Carlos__ which runs for __338__ minutes, there is tough competition amongs all the movies to be in top 10 longest duration movies. The difference between duration of 2 subsequent movies is just 1 to 10 minutes.\n",
    "\n",
    "When runtime is considered as ordering parameter, __Drama__ genre tops the chart with __9__ out of 10 movies followed by __History__ based movies. From the above dataframe, 40% of _Drama_ and _History_ movies are not making profit, rather they faced loss."
   ]
  },
  {
   "cell_type": "markdown",
   "metadata": {},
   "source": [
    "----"
   ]
  },
  {
   "cell_type": "markdown",
   "metadata": {},
   "source": [
    "__Research Question 5: Similarities of Profitable Movies__\n",
    "\n",
    "The movies with profit of __$300 million__ or more are considered as Profitable Movies and called as __\\\\$300 million club movies__\n",
    "\n",
    "            5.1 Which genre was most frequent in the profitable movies ?\n",
    "            5.2 Which Actor appeared in most of the profitable movies ?\n",
    "            5.3 Which Director directed maximum number of profitable movies ?\n",
    "            \n",
    "            \n"
   ]
  },
  {
   "cell_type": "markdown",
   "metadata": {},
   "source": [
    "Creating a new dataframe <code>df_profcount</code> as a slice from <code>df_tmdb</code> dataframe. This will be used to answer this question."
   ]
  },
  {
   "cell_type": "code",
   "execution_count": 41,
   "metadata": {},
   "outputs": [
    {
     "data": {
      "text/html": [
       "<div>\n",
       "<style scoped>\n",
       "    .dataframe tbody tr th:only-of-type {\n",
       "        vertical-align: middle;\n",
       "    }\n",
       "\n",
       "    .dataframe tbody tr th {\n",
       "        vertical-align: top;\n",
       "    }\n",
       "\n",
       "    .dataframe thead th {\n",
       "        text-align: right;\n",
       "    }\n",
       "</style>\n",
       "<table border=\"1\" class=\"dataframe\">\n",
       "  <thead>\n",
       "    <tr style=\"text-align: right;\">\n",
       "      <th></th>\n",
       "      <th>genres</th>\n",
       "      <th>cast</th>\n",
       "      <th>director</th>\n",
       "      <th>profit</th>\n",
       "    </tr>\n",
       "  </thead>\n",
       "  <tbody>\n",
       "    <tr>\n",
       "      <th>0</th>\n",
       "      <td>Action|Adventure|Science Fiction|Thriller</td>\n",
       "      <td>Chris Pratt|Bryce Dallas Howard|Irrfan Khan|Vi...</td>\n",
       "      <td>Colin Trevorrow</td>\n",
       "      <td>1363528810</td>\n",
       "    </tr>\n",
       "    <tr>\n",
       "      <th>3</th>\n",
       "      <td>Action|Adventure|Science Fiction|Fantasy</td>\n",
       "      <td>Harrison Ford|Mark Hamill|Carrie Fisher|Adam D...</td>\n",
       "      <td>J.J. Abrams</td>\n",
       "      <td>1868178225</td>\n",
       "    </tr>\n",
       "    <tr>\n",
       "      <th>4</th>\n",
       "      <td>Action|Crime|Thriller</td>\n",
       "      <td>Vin Diesel|Paul Walker|Jason Statham|Michelle ...</td>\n",
       "      <td>James Wan</td>\n",
       "      <td>1316249360</td>\n",
       "    </tr>\n",
       "    <tr>\n",
       "      <th>5</th>\n",
       "      <td>Western|Drama|Adventure|Thriller</td>\n",
       "      <td>Leonardo DiCaprio|Tom Hardy|Will Poulter|Domhn...</td>\n",
       "      <td>Alejandro GonzÃ¡lez IÃ±Ã¡rritu</td>\n",
       "      <td>397950503</td>\n",
       "    </tr>\n",
       "    <tr>\n",
       "      <th>7</th>\n",
       "      <td>Drama|Adventure|Science Fiction</td>\n",
       "      <td>Matt Damon|Jessica Chastain|Kristen Wiig|Jeff ...</td>\n",
       "      <td>Ridley Scott</td>\n",
       "      <td>487380321</td>\n",
       "    </tr>\n",
       "  </tbody>\n",
       "</table>\n",
       "</div>"
      ],
      "text/plain": [
       "                                      genres  \\\n",
       "0  Action|Adventure|Science Fiction|Thriller   \n",
       "3   Action|Adventure|Science Fiction|Fantasy   \n",
       "4                      Action|Crime|Thriller   \n",
       "5           Western|Drama|Adventure|Thriller   \n",
       "7            Drama|Adventure|Science Fiction   \n",
       "\n",
       "                                                cast  \\\n",
       "0  Chris Pratt|Bryce Dallas Howard|Irrfan Khan|Vi...   \n",
       "3  Harrison Ford|Mark Hamill|Carrie Fisher|Adam D...   \n",
       "4  Vin Diesel|Paul Walker|Jason Statham|Michelle ...   \n",
       "5  Leonardo DiCaprio|Tom Hardy|Will Poulter|Domhn...   \n",
       "7  Matt Damon|Jessica Chastain|Kristen Wiig|Jeff ...   \n",
       "\n",
       "                         director      profit  \n",
       "0                 Colin Trevorrow  1363528810  \n",
       "3                     J.J. Abrams  1868178225  \n",
       "4                       James Wan  1316249360  \n",
       "5  Alejandro GonzÃ¡lez IÃ±Ã¡rritu   397950503  \n",
       "7                    Ridley Scott   487380321  "
      ]
     },
     "execution_count": 41,
     "metadata": {},
     "output_type": "execute_result"
    }
   ],
   "source": [
    "df_profcount=df_tmdb.loc[:,[\"genres\",\"cast\",\"director\",\"budget\",\"revenue\"]]\n",
    "df_profcount[\"profit\"]=df_profcount[\"revenue\"]-df_profcount[\"budget\"]\n",
    "df_profcount[\"budget\"]=df_profcount[\"budget\"].astype('int64')\n",
    "df_profcount[\"profit\"]=df_profcount[\"profit\"].astype('int64')\n",
    "df_profcount.drop([\"revenue\",\"budget\"],axis=1,inplace=True)\n",
    "df_profcount=df_profcount[df_profcount['profit']>=300000000]\n",
    "df_profcount.head()"
   ]
  },
  {
   "cell_type": "code",
   "execution_count": 42,
   "metadata": {},
   "outputs": [
    {
     "data": {
      "text/plain": [
       "(225, 4)"
      ]
     },
     "execution_count": 42,
     "metadata": {},
     "output_type": "execute_result"
    }
   ],
   "source": [
    "df_profcount.shape"
   ]
  },
  {
   "cell_type": "markdown",
   "metadata": {},
   "source": [
    "Fantastic !! There were __225__ movies in $300 million club"
   ]
  },
  {
   "cell_type": "code",
   "execution_count": 43,
   "metadata": {},
   "outputs": [
    {
     "data": {
      "text/html": [
       "<div>\n",
       "<style scoped>\n",
       "    .dataframe tbody tr th:only-of-type {\n",
       "        vertical-align: middle;\n",
       "    }\n",
       "\n",
       "    .dataframe tbody tr th {\n",
       "        vertical-align: top;\n",
       "    }\n",
       "\n",
       "    .dataframe thead th {\n",
       "        text-align: right;\n",
       "    }\n",
       "</style>\n",
       "<table border=\"1\" class=\"dataframe\">\n",
       "  <thead>\n",
       "    <tr style=\"text-align: right;\">\n",
       "      <th></th>\n",
       "      <th>genres</th>\n",
       "      <th>cast</th>\n",
       "      <th>director</th>\n",
       "      <th>profit</th>\n",
       "    </tr>\n",
       "  </thead>\n",
       "  <tbody>\n",
       "    <tr>\n",
       "      <th>1386</th>\n",
       "      <td>Action|Adventure|Fantasy|Science Fiction</td>\n",
       "      <td>Sam Worthington|Zoe Saldana|Sigourney Weaver|S...</td>\n",
       "      <td>James Cameron</td>\n",
       "      <td>2544505847</td>\n",
       "    </tr>\n",
       "    <tr>\n",
       "      <th>3</th>\n",
       "      <td>Action|Adventure|Science Fiction|Fantasy</td>\n",
       "      <td>Harrison Ford|Mark Hamill|Carrie Fisher|Adam D...</td>\n",
       "      <td>J.J. Abrams</td>\n",
       "      <td>1868178225</td>\n",
       "    </tr>\n",
       "    <tr>\n",
       "      <th>5231</th>\n",
       "      <td>Drama|Romance|Thriller</td>\n",
       "      <td>Kate Winslet|Leonardo DiCaprio|Frances Fisher|...</td>\n",
       "      <td>James Cameron</td>\n",
       "      <td>1645034188</td>\n",
       "    </tr>\n",
       "    <tr>\n",
       "      <th>0</th>\n",
       "      <td>Action|Adventure|Science Fiction|Thriller</td>\n",
       "      <td>Chris Pratt|Bryce Dallas Howard|Irrfan Khan|Vi...</td>\n",
       "      <td>Colin Trevorrow</td>\n",
       "      <td>1363528810</td>\n",
       "    </tr>\n",
       "    <tr>\n",
       "      <th>4</th>\n",
       "      <td>Action|Crime|Thriller</td>\n",
       "      <td>Vin Diesel|Paul Walker|Jason Statham|Michelle ...</td>\n",
       "      <td>James Wan</td>\n",
       "      <td>1316249360</td>\n",
       "    </tr>\n",
       "  </tbody>\n",
       "</table>\n",
       "</div>"
      ],
      "text/plain": [
       "                                         genres  \\\n",
       "1386   Action|Adventure|Fantasy|Science Fiction   \n",
       "3      Action|Adventure|Science Fiction|Fantasy   \n",
       "5231                     Drama|Romance|Thriller   \n",
       "0     Action|Adventure|Science Fiction|Thriller   \n",
       "4                         Action|Crime|Thriller   \n",
       "\n",
       "                                                   cast         director  \\\n",
       "1386  Sam Worthington|Zoe Saldana|Sigourney Weaver|S...    James Cameron   \n",
       "3     Harrison Ford|Mark Hamill|Carrie Fisher|Adam D...      J.J. Abrams   \n",
       "5231  Kate Winslet|Leonardo DiCaprio|Frances Fisher|...    James Cameron   \n",
       "0     Chris Pratt|Bryce Dallas Howard|Irrfan Khan|Vi...  Colin Trevorrow   \n",
       "4     Vin Diesel|Paul Walker|Jason Statham|Michelle ...        James Wan   \n",
       "\n",
       "          profit  \n",
       "1386  2544505847  \n",
       "3     1868178225  \n",
       "5231  1645034188  \n",
       "0     1363528810  \n",
       "4     1316249360  "
      ]
     },
     "execution_count": 43,
     "metadata": {},
     "output_type": "execute_result"
    }
   ],
   "source": [
    "df_profcount.sort_values(by=\"profit\",ascending=False,inplace=True)\n",
    "df_profcount.head()"
   ]
  },
  {
   "cell_type": "markdown",
   "metadata": {},
   "source": [
    "__Answer 5.1__: Most frequent genre in profitable movies"
   ]
  },
  {
   "cell_type": "code",
   "execution_count": 57,
   "metadata": {},
   "outputs": [
    {
     "data": {
      "text/plain": [
       "Adventure    132\n",
       "Action       108\n",
       "Family        67\n",
       "Fantasy       66\n",
       "Comedy        61\n",
       "dtype: int64"
      ]
     },
     "execution_count": 57,
     "metadata": {},
     "output_type": "execute_result"
    },
    {
     "data": {
      "image/png": "[encoded data removed]",
      "text/plain": [
       "<Figure size 432x288 with 1 Axes>"
      ]
     },
     "metadata": {},
     "output_type": "display_data"
    }
   ],
   "source": [
    "colgen=pd.Series(df_profcount[\"genres\"].str.cat(sep='|').split('|'))\n",
    "countgen=colgen.value_counts(ascending=False)\n",
    "countgen.plot.barh().set(title='Frequency of Genres in $300 million club Movies', xlabel='Number of Movies',ylabel='Genre')\n",
    "countgen.head()"
   ]
  },
  {
   "cell_type": "markdown",
   "metadata": {},
   "source": [
    "__Answer 5.2__: Most frequent actor in profitable movies"
   ]
  },
  {
   "cell_type": "code",
   "execution_count": 45,
   "metadata": {},
   "outputs": [
    {
     "data": {
      "text/plain": [
       "Tom Hanks           9\n",
       "Harrison Ford       9\n",
       "Tom Cruise          8\n",
       "Rupert Grint        8\n",
       "Daniel Radcliffe    8\n",
       "dtype: int64"
      ]
     },
     "execution_count": 45,
     "metadata": {},
     "output_type": "execute_result"
    }
   ],
   "source": [
    "colcast=pd.Series(df_profcount[\"cast\"].str.cat(sep='|').split('|'))\n",
    "countcast=colcast.value_counts(ascending=False)\n",
    "countcast.head()"
   ]
  },
  {
   "cell_type": "markdown",
   "metadata": {},
   "source": [
    "__Answer 5.3__: Most frequent director in profitable movies"
   ]
  },
  {
   "cell_type": "code",
   "execution_count": 46,
   "metadata": {},
   "outputs": [
    {
     "data": {
      "text/plain": [
       "Steven Spielberg    10\n",
       "Peter Jackson        7\n",
       "Michael Bay          5\n",
       "Chris Columbus       5\n",
       "Carlos Saldanha      5\n",
       "dtype: int64"
      ]
     },
     "execution_count": 46,
     "metadata": {},
     "output_type": "execute_result"
    }
   ],
   "source": [
    "coldire=pd.Series(df_profcount[\"director\"].str.cat(sep='|').split('|'))\n",
    "countdire=coldire.value_counts(ascending=False)\n",
    "countdire.head()"
   ]
  },
  {
   "cell_type": "markdown",
   "metadata": {},
   "source": [
    "__Adventure__ is the most popular genre in the movies with \\\\$300 million or more profit making movies followed by _Action_. While, there seems to be good competition among the top 5 most frequent actors in these profitable movies. __Tom Hanks__ wins the crown with 9 movies gaining \\\\$300 million and more profit. __Steven Spielberg__ who was found to be most frequent director in this dataset, has 10 movies in this \\\\$300 million club. "
   ]
  },
  {
   "cell_type": "markdown",
   "metadata": {},
   "source": [
    "### 7. Conclusion"
   ]
  },
  {
   "cell_type": "markdown",
   "metadata": {},
   "source": [
    "In this notebook, I investigated the __TMDb Movies dataset__. \n",
    "\n",
    "Going through the 5 questions, I found some numerical information regarding budget, profit, revenue, runtime and popularity of the movies. Also, I found the non-numerica data such as directors with maximum number of movies, genres of most money making movies. A visualization was also generated to simply check if there is any relationship different features of the movies. Lastly, I considered all movies with profit more that $300 million as profitable movies. The cast, genre and director information of these profitable movies is extracted. \n",
    "\n",
    "To conclude, I summarize my investigations as:\n",
    "\n",
    "1. No linear relationship was observed amongst budget, revenue, runtime and profit of the movies.\n",
    "2. There are total 225 movies which gained profit of \\\\$300 million and more\n",
    "3. Steven Spielberg directed maximum 28 movies out of which 10 movies earned profit of \\\\$300 million or more.\n",
    "4. Robert De Niro acted in maximum 52 movies, where as Harrison Ford worked in 9 \\\\$300 million club movies.\n",
    "5. Even though _Drama_ is most frequently appeared genre, almost 60% of \\\\$300 million club movies had _Adventure_ genre\n"
   ]
  },
  {
   "cell_type": "markdown",
   "metadata": {},
   "source": [
    "### 8. Resources Used\n",
    "\n",
    "1. [Matplotlib - A Layered Data Visualization Library](https://medium.com/@17.rsuraj/matplotlib-a-layered-data-visualization-library-870d992ff4b5)\n",
    "2. [Pandas DataFrame](https://pandas.pydata.org/pandas-docs/version/0.23.4/generated/pandas.DataFrame.plot.html)\n",
    "3. [Matplotlib Documentation](https://matplotlib.org/3.2.1/api/_as_gen/matplotlib.pyplot.plot.html#matplotlib.pyplot.plot)\n",
    "4. [Seaborn Documentation](https://seaborn.pydata.org/index.html)"
   ]
  },
  {
   "cell_type": "markdown",
   "metadata": {},
   "source": [
    "### Thank you for your time !!!"
   ]
  },
  {
   "cell_type": "code",
   "execution_count": null,
   "metadata": {},
   "outputs": [],
   "source": []
  }
 ],
 "metadata": {
  "kernelspec": {
   "display_name": "Python 3",
   "language": "python",
   "name": "python3"
  },
  "language_info": {
   "codemirror_mode": {
    "name": "ipython",
    "version": 3
   },
   "file_extension": ".py",
   "mimetype": "text/x-python",
   "name": "python",
   "nbconvert_exporter": "python",
   "pygments_lexer": "ipython3",
   "version": "3.7.6"
  }
 },
 "nbformat": 4,
 "nbformat_minor": 4
}
